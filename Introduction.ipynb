{
 "cells": [
  {
   "cell_type": "markdown",
   "metadata": {},
   "source": [
    "# The JuMP ecosystem for mathematical optimization: Introduction\n",
    "\n",
    "This notebook is part of a workshop at [JuliaCon 2018](http://juliacon.org/2018/) and is based on materials and notebooks from various sources including the [JuliaOpt notebooks](https://github.com/JuliaOpt/juliaopt-notebooks), the [2018 ISCO Spring School](https://github.com/joehuchette/ISCO-spring-school) and the [second annual JuMP-dev workshop](http://www.juliaopt.org/meetings/bordeaux2018/).\n",
    "\n",
    "## Disclaimer\n",
    "This notebook is only working under the versions:\n",
    "\n",
    "- JuMP 0.19 (unreleased, but currently in master)\n",
    "\n",
    "- MathOptInterface 0.4.1\n",
    "\n",
    "- GLPK 0.6.0"
   ]
  },
  {
   "cell_type": "markdown",
   "metadata": {},
   "source": [
    "## Airline Network Revenue Management\n",
    "\n",
    "<img style=\"max-width:100%; width:500px; height:auto\" src=\"http://i.imgur.com/jeGwWET.png\">\n",
    "\n",
    "In the airline network revenue management problem we are trying to decide how many tickets for each origin-destination (O-D) pair to sell at each price level. The goal is to maximize revenue, and we cannot sell more tickets than there is demand for, or space on the planes for.\n",
    "\n",
    "### Three Flight Problem\n",
    "\n",
    "We'll start with a toy problem that has three origin-destination pairs, with two price classes for each pair. The three origin-destination pairs are BOS-MDW, MDW-SFO, or BOS-SFO via MDW. BOS stands for Boston, MDW is Chicago-Midway, and SFO is San Francisco. Each O-D pair has a \"regular\" and \"discount\" fare class. The data we will use is summarized as follows:\n",
    "\n",
    "```\n",
    "PLANE CAPACITY: 166\n",
    "\n",
    "BOS-MDW\n",
    "        Regular  Discount\n",
    "Price:  428      190\n",
    "Demand: 80       120\n",
    "\n",
    "BOS-SFO\n",
    "        Regular  Discount\n",
    "Price:  642      224\n",
    "Demand: 75       100\n",
    "\n",
    "MDW-SFO\n",
    "        Regular  Discount\n",
    "Price:  512      190\n",
    "Demand: 60       110\n",
    "```"
   ]
  },
  {
   "cell_type": "code",
   "execution_count": 5,
   "metadata": {},
   "outputs": [
    {
     "name": "stdout",
     "output_type": "stream",
     "text": [
      "JuMP.terminationstatus(nrm) == MOI.Success = true\n",
      "JuMP.resultvalue(BOStoMDW_R) = 80.0\n",
      "JuMP.resultvalue(BOStoMDW_D) = 11.0\n",
      "JuMP.objectivevalue(nrm) = "
     ]
    },
    {
     "data": {
      "text/plain": [
       "121090.0"
      ]
     },
     "execution_count": 5,
     "metadata": {},
     "output_type": "execute_result"
    },
    {
     "name": "stdout",
     "output_type": "stream",
     "text": [
      "121090.0\n"
     ]
    }
   ],
   "source": [
    "using JuMP, GLPK\n",
    "\n",
    "nrm = Model(optimizer = GLPK.GLPKOptimizerLP())\n",
    "\n",
    "@variables(nrm, begin \n",
    "    0 <= BOStoMDW_R <= 80\n",
    "    0 <= BOStoMDW_D <= 120\n",
    "    0 <= BOStoSFO_R <= 75\n",
    "    0 <= BOStoSFO_D <= 100\n",
    "    0 <= MDWtoSFO_R <= 60\n",
    "    0 <= MDWtoSFO_D <= 110\n",
    "end)\n",
    "\n",
    "@objective(nrm, Max, 428BOStoMDW_R + 190BOStoMDW_D +\n",
    "                     642BOStoSFO_R + 224BOStoSFO_D +\n",
    "                     512MDWtoSFO_R + 190MDWtoSFO_D)\n",
    "\n",
    "@constraint(nrm, BOStoMDW_R + BOStoMDW_D + \n",
    "                 BOStoSFO_R + BOStoSFO_D <= 166)\n",
    "@constraint(nrm, MDWtoSFO_R + MDWtoSFO_D + \n",
    "                 BOStoSFO_R + BOStoSFO_D <= 166)\n",
    "\n",
    "JuMP.optimize(nrm)\n",
    "\n",
    "@show JuMP.terminationstatus(nrm) == MOI.Success\n",
    "\n",
    "@show JuMP.resultvalue(BOStoMDW_R)\n",
    "@show JuMP.resultvalue(BOStoMDW_D)\n",
    "@show JuMP.objectivevalue(nrm)"
   ]
  },
  {
   "cell_type": "markdown",
   "metadata": {},
   "source": [
    "# A step by step example\n",
    "Let's see how we translate a simple, 2 variable LP to JuMP code.\n",
    "\n",
    "$$\n",
    "\\begin{align*}\n",
    "\\max_{x,y} \\quad& x + 2y \\\\\n",
    "\\text{s.t.}\\quad& x + y \\leq 1 \\\\\n",
    "& x, y \\geq 0.\n",
    "\\end{align*}\n",
    "$$\n",
    "\n",
    "First, we load the JuMP, MathOptInterface (MOI), and GLPK (GNU LP/MIP solver)."
   ]
  },
  {
   "cell_type": "code",
   "execution_count": 6,
   "metadata": {
    "collapsed": true
   },
   "outputs": [],
   "source": [
    "using JuMP  \n",
    "using MathOptInterface # Replaces MathProgBase\n",
    "# shortcuts\n",
    "const MOI = MathOptInterface\n",
    "const MOIU = MathOptInterface.Utilities\n",
    "\n",
    "using GLPK # Loading the GLPK module for using its solver"
   ]
  },
  {
   "cell_type": "markdown",
   "metadata": {},
   "source": [
    "Next, we construct a model object. This is a container for everything in our optimization problem: variables, constraints, solver options, etc."
   ]
  },
  {
   "cell_type": "code",
   "execution_count": 7,
   "metadata": {},
   "outputs": [
    {
     "data": {
      "text/plain": [
       "A JuMP Model"
      ]
     },
     "execution_count": 7,
     "metadata": {},
     "output_type": "execute_result"
    }
   ],
   "source": [
    "model = Model(optimizer = GLPK.GLPKOptimizerLP())  # Old syntax: model = Model(solver=GLPK.GLPKOptimizerLP())"
   ]
  },
  {
   "cell_type": "markdown",
   "metadata": {},
   "source": [
    "Next, we define the two decision variables in our optimization problem. We will use the ``@variable`` macro. The first argument is the model object to attach the variable to, and the second specifies the variable name and any bounds."
   ]
  },
  {
   "cell_type": "code",
   "execution_count": 8,
   "metadata": {},
   "outputs": [
    {
     "data": {
      "text/latex": [
       "$$ y $$"
      ],
      "text/plain": [
       "y"
      ]
     },
     "execution_count": 8,
     "metadata": {},
     "output_type": "execute_result"
    }
   ],
   "source": [
    "@variable(model, x >= 0)\n",
    "@variable(model, y >= 0)"
   ]
  },
  {
   "cell_type": "code",
   "execution_count": 9,
   "metadata": {},
   "outputs": [
    {
     "data": {
      "text/plain": [
       "A JuMP Model"
      ]
     },
     "execution_count": 9,
     "metadata": {},
     "output_type": "execute_result"
    }
   ],
   "source": [
    "model"
   ]
  },
  {
   "cell_type": "markdown",
   "metadata": {},
   "source": [
    "We now add the single constraint of our problem using the ``@constraint`` macro. We write it algebraically, exactly as we see it above."
   ]
  },
  {
   "cell_type": "code",
   "execution_count": 10,
   "metadata": {},
   "outputs": [
    {
     "data": {
      "text/plain": [
       "A JuMP Model"
      ]
     },
     "execution_count": 10,
     "metadata": {},
     "output_type": "execute_result"
    }
   ],
   "source": [
    "@constraint(model, x + y <= 1)\n",
    "model"
   ]
  },
  {
   "cell_type": "markdown",
   "metadata": {},
   "source": [
    "We specify the objective function with the ``@objective`` macro."
   ]
  },
  {
   "cell_type": "code",
   "execution_count": 11,
   "metadata": {
    "collapsed": true
   },
   "outputs": [],
   "source": [
    "@objective(model, Max, x + 2y)"
   ]
  },
  {
   "cell_type": "code",
   "execution_count": 7,
   "metadata": {
    "scrolled": true
   },
   "outputs": [
    {
     "data": {
      "text/plain": [
       "A JuMP Model"
      ]
     },
     "execution_count": 7,
     "metadata": {},
     "output_type": "execute_result"
    }
   ],
   "source": [
    "model"
   ]
  },
  {
   "cell_type": "markdown",
   "metadata": {},
   "source": [
    "To solve the optimization problem, call the `optimize` function."
   ]
  },
  {
   "cell_type": "code",
   "execution_count": 12,
   "metadata": {
    "collapsed": true
   },
   "outputs": [],
   "source": [
    "JuMP.optimize(model) # Old syntax: status = JuMP.solve(model)"
   ]
  },
  {
   "cell_type": "markdown",
   "metadata": {},
   "source": [
    "We can then check the status of the optimization call."
   ]
  },
  {
   "cell_type": "code",
   "execution_count": 13,
   "metadata": {
    "scrolled": true
   },
   "outputs": [
    {
     "name": "stdout",
     "output_type": "stream",
     "text": [
      "JuMP.hasresultvalues(model) = true\n",
      "JuMP.terminationstatus(model) == MOI.Success = true\n"
     ]
    },
    {
     "data": {
      "text/plain": [
       "true"
      ]
     },
     "execution_count": 13,
     "metadata": {},
     "output_type": "execute_result"
    },
    {
     "name": "stdout",
     "output_type": "stream",
     "text": [
      "JuMP.primalstatus(model) == MOI.FeasiblePoint = true\n",
      "JuMP.dualstatus(model) == MOI.FeasiblePoint = true\n"
     ]
    }
   ],
   "source": [
    "@show JuMP.hasresultvalues(model)\n",
    "@show JuMP.terminationstatus(model) == MOI.Success\n",
    "@show JuMP.primalstatus(model) == MOI.FeasiblePoint\n",
    "@show JuMP.dualstatus(model) == MOI.FeasiblePoint"
   ]
  },
  {
   "cell_type": "markdown",
   "metadata": {},
   "source": [
    "Much more details than old `:Optimal, :Unbounded, :Infeasible, :UserLimit, :Error, :NotSolved`"
   ]
  },
  {
   "cell_type": "code",
   "execution_count": 14,
   "metadata": {},
   "outputs": [
    {
     "data": {
      "text/plain": [
       "Enum MathOptInterface.TerminationStatusCode:\n",
       "Success = 0\n",
       "AlmostSuccess = 1\n",
       "InfeasibleNoResult = 2\n",
       "UnboundedNoResult = 3\n",
       "InfeasibleOrUnbounded = 4\n",
       "IterationLimit = 5\n",
       "TimeLimit = 6\n",
       "NodeLimit = 7\n",
       "SolutionLimit = 8\n",
       "MemoryLimit = 9\n",
       "ObjectiveLimit = 10\n",
       "NormLimit = 11\n",
       "OtherLimit = 12\n",
       "SlowProgress = 13\n",
       "NumericalError = 14\n",
       "InvalidModel = 15\n",
       "InvalidOption = 16\n",
       "Interrupted = 17\n",
       "OtherError = 18"
      ]
     },
     "metadata": {},
     "output_type": "display_data"
    },
    {
     "data": {
      "text/plain": [
       "Enum MathOptInterface.ResultStatusCode:\n",
       "FeasiblePoint = 0\n",
       "NearlyFeasiblePoint = 1\n",
       "InfeasiblePoint = 2\n",
       "InfeasibilityCertificate = 3\n",
       "NearlyInfeasibilityCertificate = 4\n",
       "ReductionCertificate = 5\n",
       "NearlyReductionCertificate = 6\n",
       "UnknownResultStatus = 7\n",
       "OtherResultStatus = 8"
      ]
     },
     "metadata": {},
     "output_type": "display_data"
    }
   ],
   "source": [
    "display(typeof(MOI.Success))\n",
    "display(typeof(MOI.FeasiblePoint))"
   ]
  },
  {
   "cell_type": "markdown",
   "metadata": {},
   "source": [
    "We can now inspect the solution values and optimal cost."
   ]
  },
  {
   "cell_type": "code",
   "execution_count": 15,
   "metadata": {},
   "outputs": [
    {
     "data": {
      "text/plain": [
       "2.0"
      ]
     },
     "execution_count": 15,
     "metadata": {},
     "output_type": "execute_result"
    },
    {
     "name": "stdout",
     "output_type": "stream",
     "text": [
      "JuMP.resultvalue(x) = 0.0\n",
      "JuMP.resultvalue(y) = 1.0\n",
      "JuMP.objectivevalue(model) = 2.0\n"
     ]
    }
   ],
   "source": [
    "@show JuMP.resultvalue(x)              # Old syntax: getvalue(x)\n",
    "@show JuMP.resultvalue(y)              # Old syntax: getvalue(y)\n",
    "@show JuMP.objectivevalue(model)       # Old syntax: getobjectivevalue(model)"
   ]
  },
  {
   "cell_type": "markdown",
   "metadata": {},
   "source": [
    "I can also \"name\" constraints for later reference."
   ]
  },
  {
   "cell_type": "code",
   "execution_count": 16,
   "metadata": {
    "scrolled": false
   },
   "outputs": [
    {
     "data": {
      "text/plain": [
       "-2.0"
      ]
     },
     "execution_count": 16,
     "metadata": {},
     "output_type": "execute_result"
    },
    {
     "name": "stdout",
     "output_type": "stream",
     "text": [
      "JuMP.hasresultvalues(model) = true\n",
      "JuMP.terminationstatus(model) == MOI.Success = true\n",
      "JuMP.primalstatus(model) == MOI.FeasiblePoint = true\n",
      "JuMP.dualstatus(model) == MOI.FeasiblePoint = true\n",
      "JuMP.resultdual(inequality) = -2.0\n"
     ]
    }
   ],
   "source": [
    "model = Model(optimizer = GLPK.GLPKOptimizerLP())\n",
    "@variable(model, x >= 0)\n",
    "@variable(model, y >= 0)\n",
    "@constraint(model,inequality, x + y <= 1)         # <=============== give constraint the name \"inequality\"\n",
    "@objective(model, Max, x + 2y)\n",
    "JuMP.optimize(model)\n",
    "@show JuMP.hasresultvalues(model)\n",
    "@show JuMP.terminationstatus(model) == MOI.Success\n",
    "@show JuMP.primalstatus(model) == MOI.FeasiblePoint\n",
    "@show JuMP.dualstatus(model) == MOI.FeasiblePoint\n",
    "@show JuMP.resultdual(inequality)"
   ]
  },
  {
   "cell_type": "markdown",
   "metadata": {},
   "source": [
    "Constraint references can be used to modify problem ([By 0.19 Release](https://github.com/JuliaOpt/JuMP.jl/issues/1183)) and to get duals (see Topics notebook)."
   ]
  },
  {
   "cell_type": "markdown",
   "metadata": {},
   "source": [
    "## Collections of variables/constraints and summation in JuMP"
   ]
  },
  {
   "cell_type": "markdown",
   "metadata": {},
   "source": [
    "First, we would like to construct a _collection of variables_ all at once.  This is a very common idiom; for example, you might have a variable named ``x`` that is indexed from 1 to 10:"
   ]
  },
  {
   "cell_type": "code",
   "execution_count": 17,
   "metadata": {},
   "outputs": [
    {
     "data": {
      "text/plain": [
       "10-element Array{JuMP.VariableRef,1}:\n",
       " x[1] \n",
       " x[2] \n",
       " x[3] \n",
       " x[4] \n",
       " x[5] \n",
       " x[6] \n",
       " x[7] \n",
       " x[8] \n",
       " x[9] \n",
       " x[10]"
      ]
     },
     "execution_count": 17,
     "metadata": {},
     "output_type": "execute_result"
    }
   ],
   "source": [
    "m = Model()\n",
    "@variable(m, x[1:10] >= 0)"
   ]
  },
  {
   "cell_type": "markdown",
   "metadata": {},
   "source": [
    "The index sets are specified inside the ``[...]`` block. You can create multidimensional containers by specifying multiple index sets, separated by commas:"
   ]
  },
  {
   "cell_type": "code",
   "execution_count": 3,
   "metadata": {},
   "outputs": [
    {
     "data": {
      "text/plain": [
       "2-dimensional JuMPArray{JuMP.VariableRef,2,...} with index sets:\n",
       "    Dimension 1, 1:10\n",
       "    Dimension 2, String[\"red\", \"blue\"]\n",
       "And data, a 10×2 Array{JuMP.VariableRef,2}:\n",
       " y[1,red]   y[1,blue] \n",
       " y[2,red]   y[2,blue] \n",
       " y[3,red]   y[3,blue] \n",
       " y[4,red]   y[4,blue] \n",
       " y[5,red]   y[5,blue] \n",
       " y[6,red]   y[6,blue] \n",
       " y[7,red]   y[7,blue] \n",
       " y[8,red]   y[8,blue] \n",
       " y[9,red]   y[9,blue] \n",
       " y[10,red]  y[10,blue]"
      ]
     },
     "execution_count": 3,
     "metadata": {},
     "output_type": "execute_result"
    }
   ],
   "source": [
    "@variable(m, y[1:10,[\"red\",\"blue\"]] <= 1)"
   ]
  },
  {
   "cell_type": "markdown",
   "metadata": {},
   "source": [
    "For more complicated expressions, you can name the indices for the index sets and use them in the rest of the variable definition:"
   ]
  },
  {
   "cell_type": "markdown",
   "metadata": {},
   "source": [
    "$$\n",
    "i \\leq z_{ij} \\leq u_j \\;\\;\\; \\forall i \\in \\{1,...,10\\}, j \\in \\{i+1, ..., 10\\}\n",
    "$$"
   ]
  },
  {
   "cell_type": "code",
   "execution_count": 4,
   "metadata": {},
   "outputs": [
    {
     "data": {
      "text/plain": [
       "Dict{Any,JuMP.VariableRef} with 45 entries:\n",
       "  (8, 10) => z[8,10]\n",
       "  (3, 6)  => z[3,6]\n",
       "  (6, 9)  => z[6,9]\n",
       "  (8, 9)  => z[8,9]\n",
       "  (1, 10) => z[1,10]\n",
       "  (4, 5)  => z[4,5]\n",
       "  (2, 4)  => z[2,4]\n",
       "  (4, 9)  => z[4,9]\n",
       "  (1, 2)  => z[1,2]\n",
       "  (3, 4)  => z[3,4]\n",
       "  (2, 3)  => z[2,3]\n",
       "  (2, 6)  => z[2,6]\n",
       "  (2, 5)  => z[2,5]\n",
       "  (5, 9)  => z[5,9]\n",
       "  (5, 10) => z[5,10]\n",
       "  (1, 4)  => z[1,4]\n",
       "  (3, 9)  => z[3,9]\n",
       "  (2, 8)  => z[2,8]\n",
       "  (5, 8)  => z[5,8]\n",
       "  (4, 8)  => z[4,8]\n",
       "  (7, 8)  => z[7,8]\n",
       "  (7, 9)  => z[7,9]\n",
       "  (5, 7)  => z[5,7]\n",
       "  (4, 10) => z[4,10]\n",
       "  (1, 7)  => z[1,7]\n",
       "  ⋮       => ⋮"
      ]
     },
     "execution_count": 4,
     "metadata": {},
     "output_type": "execute_result"
    }
   ],
   "source": [
    "u = rand(10)\n",
    "@variable(m, i <= z[i=1:10,j=(i+1):10] <= u[j])"
   ]
  },
  {
   "cell_type": "markdown",
   "metadata": {},
   "source": [
    "To specify conditions on the indexing, you can add conditionals inside the ``[...]`` block, separated by a semicolon:"
   ]
  },
  {
   "cell_type": "code",
   "execution_count": 5,
   "metadata": {},
   "outputs": [
    {
     "data": {
      "text/plain": [
       "Dict{Any,JuMP.VariableRef} with 15 entries:\n",
       "  (10, \"blue\") => w[10,blue]\n",
       "  (7, \"red\")   => w[7,red]\n",
       "  (8, \"red\")   => w[8,red]\n",
       "  (10, \"red\")  => w[10,red]\n",
       "  (6, \"blue\")  => w[6,blue]\n",
       "  (1, \"red\")   => w[1,red]\n",
       "  (5, \"red\")   => w[5,red]\n",
       "  (2, \"blue\")  => w[2,blue]\n",
       "  (6, \"red\")   => w[6,red]\n",
       "  (3, \"red\")   => w[3,red]\n",
       "  (8, \"blue\")  => w[8,blue]\n",
       "  (4, \"red\")   => w[4,red]\n",
       "  (4, \"blue\")  => w[4,blue]\n",
       "  (2, \"red\")   => w[2,red]\n",
       "  (9, \"red\")   => w[9,red]"
      ]
     },
     "execution_count": 5,
     "metadata": {},
     "output_type": "execute_result"
    }
   ],
   "source": [
    "@variable(m, w[i=1:10, c=[\"red\",\"blue\"]; iseven(i) || c == \"red\"] >= 0)"
   ]
  },
  {
   "cell_type": "markdown",
   "metadata": {},
   "source": [
    "Now that we can programatically create arrays of variables, we would like to be able to use them to full-effect in the constraints of our problem. That is, we want a way to express multi-dimensional summations, with conditionals. To do this, we use the ``sum(...)`` construction. The first argument is the ''inner loop'' of the summation, the index sets are specified after a ``for``, and any conditionals are stated following an ``if`` (similar to variable definition, but with a slightly different syntax)."
   ]
  },
  {
   "cell_type": "markdown",
   "metadata": {},
   "source": [
    "$$ \\sum _{i = 1}^{10} x_i \\leq 1$$"
   ]
  },
  {
   "cell_type": "code",
   "execution_count": 6,
   "metadata": {},
   "outputs": [
    {
     "data": {
      "text/plain": [
       "JuMP.ConstraintRef{JuMP.Model,MathOptInterface.ConstraintIndex{MathOptInterface.ScalarAffineFunction{Float64},MathOptInterface.LessThan{Float64}}}(A JuMP Model, MathOptInterface.ConstraintIndex{MathOptInterface.ScalarAffineFunction{Float64},MathOptInterface.LessThan{Float64}}(136))"
      ]
     },
     "execution_count": 6,
     "metadata": {},
     "output_type": "execute_result"
    }
   ],
   "source": [
    "@constraint(m, sum(x[i] for i in 1:10) <= 1)"
   ]
  },
  {
   "cell_type": "markdown",
   "metadata": {},
   "source": [
    "$$ \n",
    "\\begin{equation}\n",
    "\\sum_{\\substack{i\\in\\{1,...,10\\}\\\\\n",
    "                c\\in\\{\"red\",\"blue\"\\}}}\n",
    "       coef(c) \\cdot y_{ic} = 1\n",
    "\\end{equation}\n",
    "$$"
   ]
  },
  {
   "cell_type": "code",
   "execution_count": 7,
   "metadata": {},
   "outputs": [
    {
     "data": {
      "text/plain": [
       "JuMP.ConstraintRef{JuMP.Model,MathOptInterface.ConstraintIndex{MathOptInterface.ScalarAffineFunction{Float64},MathOptInterface.EqualTo{Float64}}}(A JuMP Model, MathOptInterface.ConstraintIndex{MathOptInterface.ScalarAffineFunction{Float64},MathOptInterface.EqualTo{Float64}}(137))"
      ]
     },
     "execution_count": 7,
     "metadata": {},
     "output_type": "execute_result"
    }
   ],
   "source": [
    "coef = Dict(\"red\" => 2, \"blue\" => 3)\n",
    "@constraint(m, sum(coef[c]*y[i,c] for i in 1:10, c in [\"red\",\"blue\"]) == 1)"
   ]
  },
  {
   "cell_type": "markdown",
   "metadata": {},
   "source": [
    "$$ \n",
    "\\begin{equation}\n",
    "\\sum_{i = 1}^{10} \\sum_{j = i+1}^{10} \n",
    "       i \\cdot j \\cdot z_{ij} \\leq\n",
    "\\sum_{\\substack{i\\in\\{1,...,10\\},\n",
    "                c\\in\\{\"red\",\"blue\"\\} \\\\\n",
    "                \\text{s.t. } iseven(i) \\text{ or } c = \"red\"}}\n",
    "       i^2 \\cdot w_{ic} \n",
    "\\end{equation}\n",
    "$$"
   ]
  },
  {
   "cell_type": "code",
   "execution_count": 8,
   "metadata": {},
   "outputs": [
    {
     "data": {
      "text/plain": [
       "JuMP.ConstraintRef{JuMP.Model,MathOptInterface.ConstraintIndex{MathOptInterface.ScalarAffineFunction{Float64},MathOptInterface.LessThan{Float64}}}(A JuMP Model, MathOptInterface.ConstraintIndex{MathOptInterface.ScalarAffineFunction{Float64},MathOptInterface.LessThan{Float64}}(138))"
      ]
     },
     "execution_count": 8,
     "metadata": {},
     "output_type": "execute_result"
    }
   ],
   "source": [
    "@constraint(m, sum(i*j*z[i,j] for i in 1:10, j in (i+1):10) <=\n",
    "               sum(i^2*w[i,c] for i in 1:10, c in [\"red\",\"blue\"] if iseven(i) || c == \"red\"))"
   ]
  },
  {
   "cell_type": "markdown",
   "metadata": {},
   "source": [
    "Can also do collections of constraints (named or unamed):\n",
    "    $$ \n",
    "\\begin{align}\n",
    "x_i &\\leq 0.9 \\quad \\forall i \\in \\{1,2,3\\} \\quad\\text{ (large bounds)}\\\\\n",
    "x_i &\\leq 0.5 \\quad \\forall i \\in \\{4,5,6\\} \n",
    "\\end{align}\n",
    "$$"
   ]
  },
  {
   "cell_type": "code",
   "execution_count": 28,
   "metadata": {},
   "outputs": [
    {
     "data": {
      "text/plain": [
       "1-dimensional JuMPArray{JuMP.ConstraintRef{JuMP.Model,C} where C,1,...} with index sets:\n",
       "    Dimension 1, 4:6\n",
       "And data, a 3-element Array{JuMP.ConstraintRef{JuMP.Model,C} where C,1}:\n",
       " JuMP.ConstraintRef{JuMP.Model,MathOptInterface.ConstraintIndex{MathOptInterface.ScalarAffineFunction{Float64},MathOptInterface.LessThan{Float64}}}(A JuMP Model, MathOptInterface.ConstraintIndex{MathOptInterface.ScalarAffineFunction{Float64},MathOptInterface.LessThan{Float64}}(14))\n",
       " JuMP.ConstraintRef{JuMP.Model,MathOptInterface.ConstraintIndex{MathOptInterface.ScalarAffineFunction{Float64},MathOptInterface.LessThan{Float64}}}(A JuMP Model, MathOptInterface.ConstraintIndex{MathOptInterface.ScalarAffineFunction{Float64},MathOptInterface.LessThan{Float64}}(15))\n",
       " JuMP.ConstraintRef{JuMP.Model,MathOptInterface.ConstraintIndex{MathOptInterface.ScalarAffineFunction{Float64},MathOptInterface.LessThan{Float64}}}(A JuMP Model, MathOptInterface.ConstraintIndex{MathOptInterface.ScalarAffineFunction{Float64},MathOptInterface.LessThan{Float64}}(16))"
      ]
     },
     "execution_count": 28,
     "metadata": {},
     "output_type": "execute_result"
    }
   ],
   "source": [
    "@constraint(m,largebounds[i=1:3], x[i] <= 0.9)\n",
    "@constraint(m,[i=4:6], x[i] <= 0.5)"
   ]
  },
  {
   "cell_type": "markdown",
   "metadata": {},
   "source": [
    "# New Container Conventions"
   ]
  },
  {
   "cell_type": "markdown",
   "metadata": {},
   "source": [
    "`JuMPDict` is replaced by `Base.Dict` and `JuMPArray` was rewritten (inspired by `AxisArrays`). Conventions apply for `@variable`, `@constraint`, `@expression`, `@NLconstraint`, `@NLexpression`, ..."
   ]
  },
  {
   "cell_type": "code",
   "execution_count": 2,
   "metadata": {},
   "outputs": [
    {
     "data": {
      "text/plain": [
       "Dict{Any,JuMP.VariableRef} with 3 entries:\n",
       "  3 => h[3]\n",
       "  5 => h[5]\n",
       "  1 => h[1]"
      ]
     },
     "execution_count": 2,
     "metadata": {},
     "output_type": "execute_result"
    }
   ],
   "source": [
    "m = Model(optimizer = GLPK.GLPKOptimizerLP())\n",
    "@variable(m, x[1:5, 1:5])            # Array\n",
    "set_1 = Base.OneTo(5)\n",
    "@variable(m, y[set_1, 1:5])          # Array\n",
    "set_2 = 1:5\n",
    "@variable(m, z[1:5, set_2])          # JuMPArray\n",
    "set_3 = [:a, :b, :c]\n",
    "@variable(m, w[set_2, set_3])        # JuMPArray\n",
    "@variable(m, t[i=set_2, 1:i])        # Dict\n",
    "@variable(m, h[i = 1:5; isodd(i)])  # Dict"
   ]
  },
  {
   "cell_type": "markdown",
   "metadata": {},
   "source": [
    "`@variable` chooses the tightest applicable container while remaining **type stable**. \n",
    "You can also request a container type (for more details see [Internals](Internals.ipynb#JuMP-Containers) notebook):"
   ]
  },
  {
   "cell_type": "code",
   "execution_count": 31,
   "metadata": {},
   "outputs": [
    {
     "data": {
      "text/plain": [
       "2:3"
      ]
     },
     "execution_count": 31,
     "metadata": {},
     "output_type": "execute_result"
    }
   ],
   "source": [
    "m = Model(optimizer = GLPK.GLPKOptimizerLP())\n",
    "@variable(m, x[1:5, 1:5], container = JuMPArray)\n",
    "set_1 = 1:5\n",
    "@variable(m, y[set_1, 1:5], container = Array)\n",
    "set_2 = 2:3\n",
    "# @variable(m, z[set_2, 1:5], container = Array)  # => Error instead of fallback to JuMPArray to preserve type stability"
   ]
  },
  {
   "cell_type": "markdown",
   "metadata": {},
   "source": [
    "New in 0.19: No more slicing error for JuMPArrays!"
   ]
  },
  {
   "cell_type": "code",
   "execution_count": 34,
   "metadata": {},
   "outputs": [
    {
     "data": {
      "text/plain": [
       "1-dimensional JuMPArray{JuMP.VariableRef,1,...} with index sets:\n",
       "    Dimension 1, Symbol[:a, :b, :c]\n",
       "And data, a 3-element Array{JuMP.VariableRef,1}:\n",
       " x[a,z]\n",
       " x[b,z]\n",
       " x[c,z]"
      ]
     },
     "execution_count": 34,
     "metadata": {},
     "output_type": "execute_result"
    }
   ],
   "source": [
    "m = Model(optimizer = GLPK.GLPKOptimizerLP())\n",
    "set_1 = [:a, :b, :c]\n",
    "set_2 = [:x, :y, :z]\n",
    "@variable(m, x[set_1,set_2])\n",
    "x[:,:z]"
   ]
  },
  {
   "cell_type": "markdown",
   "metadata": {},
   "source": [
    "# Different Classes of Constraints"
   ]
  },
  {
   "cell_type": "code",
   "execution_count": 20,
   "metadata": {},
   "outputs": [
    {
     "data": {
      "text/plain": [
       "MathOptInterface.Utilities"
      ]
     },
     "execution_count": 20,
     "metadata": {},
     "output_type": "execute_result"
    }
   ],
   "source": [
    "using JuMP  \n",
    "using MathOptInterface # Replaces MathProgBase\n",
    "# shortcuts\n",
    "const MOI = MathOptInterface\n",
    "const MOIU = MathOptInterface.Utilities"
   ]
  },
  {
   "cell_type": "markdown",
   "metadata": {},
   "source": [
    "Broadcasted and two sided linear inequalities:"
   ]
  },
  {
   "cell_type": "code",
   "execution_count": 21,
   "metadata": {},
   "outputs": [
    {
     "data": {
      "text/plain": [
       "2-element Array{JuMP.ConstraintRef{JuMP.Model,MathOptInterface.ConstraintIndex{MathOptInterface.ScalarAffineFunction{Float64},MathOptInterface.Interval{Float64}}},1}:\n",
       " JuMP.ConstraintRef{JuMP.Model,MathOptInterface.ConstraintIndex{MathOptInterface.ScalarAffineFunction{Float64},MathOptInterface.Interval{Float64}}}(A JuMP Model, MathOptInterface.ConstraintIndex{MathOptInterface.ScalarAffineFunction{Float64},MathOptInterface.Interval{Float64}}(1))\n",
       " JuMP.ConstraintRef{JuMP.Model,MathOptInterface.ConstraintIndex{MathOptInterface.ScalarAffineFunction{Float64},MathOptInterface.Interval{Float64}}}(A JuMP Model, MathOptInterface.ConstraintIndex{MathOptInterface.ScalarAffineFunction{Float64},MathOptInterface.Interval{Float64}}(2))"
      ]
     },
     "execution_count": 21,
     "metadata": {},
     "output_type": "execute_result"
    }
   ],
   "source": [
    "A = [1.0 2.0; 3.0 4.0]\n",
    "l = [4.0, 5.0]\n",
    "u = [2.0, 3.0]\n",
    "m = Model()\n",
    "@variable(m, x[1:2])\n",
    "@constraint(m, l .<= A*x .<= u)"
   ]
  },
  {
   "cell_type": "markdown",
   "metadata": {},
   "source": [
    "Quadratic Inequalities:"
   ]
  },
  {
   "cell_type": "code",
   "execution_count": 22,
   "metadata": {},
   "outputs": [
    {
     "data": {
      "text/plain": [
       "JuMP.ConstraintRef{JuMP.Model,MathOptInterface.ConstraintIndex{MathOptInterface.ScalarQuadraticFunction{Float64},MathOptInterface.EqualTo{Float64}}}(A JuMP Model, MathOptInterface.ConstraintIndex{MathOptInterface.ScalarQuadraticFunction{Float64},MathOptInterface.EqualTo{Float64}}(2))"
      ]
     },
     "execution_count": 22,
     "metadata": {},
     "output_type": "execute_result"
    }
   ],
   "source": [
    "m = Model()\n",
    "@variable(m, x[1:2])\n",
    "@constraint(m, x[1]^2 + x[2] <= 1)         # convex \n",
    "@constraint(m, x[1]*x[2] - 1.0 == 0.0)     # and non-convex"
   ]
  },
  {
   "cell_type": "markdown",
   "metadata": {},
   "source": [
    "Conic constraints including..."
   ]
  },
  {
   "cell_type": "markdown",
   "metadata": {},
   "source": [
    "Semidefinite constraints:"
   ]
  },
  {
   "cell_type": "code",
   "execution_count": 23,
   "metadata": {},
   "outputs": [
    {
     "data": {
      "text/plain": [
       "JuMP.ConstraintRef{JuMP.Model,MathOptInterface.ConstraintIndex{MathOptInterface.VectorAffineFunction{Float64},MathOptInterface.PositiveSemidefiniteConeTriangle}}(A JuMP Model, MathOptInterface.ConstraintIndex{MathOptInterface.VectorAffineFunction{Float64},MathOptInterface.PositiveSemidefiniteConeTriangle}(2))"
      ]
     },
     "execution_count": 23,
     "metadata": {},
     "output_type": "execute_result"
    }
   ],
   "source": [
    "m = Model()                         # using CSDP; m = Model(optimizer = CSDP.CSDPOptimizer())\n",
    "@variable(m, y[1:2,1:2], Symmetric)\n",
    "@constraint(m, y in PSDCone())               \n",
    "@SDconstraint(m,  [t 1; 1 -w] ⪰ [1 t; t -2])"
   ]
  },
  {
   "cell_type": "markdown",
   "metadata": {},
   "source": [
    "Second order cone constraints:\n",
    "$$ \n",
    "\\begin{equation}\n",
    "\\left\\| Ax+u \\right\\|_2 \\leq t\n",
    "\\end{equation}\n",
    "$$"
   ]
  },
  {
   "cell_type": "code",
   "execution_count": 24,
   "metadata": {},
   "outputs": [
    {
     "data": {
      "text/plain": [
       "JuMP.ConstraintRef{JuMP.Model,MathOptInterface.ConstraintIndex{MathOptInterface.VectorAffineFunction{Float64},MathOptInterface.SecondOrderCone}}(A JuMP Model, MathOptInterface.ConstraintIndex{MathOptInterface.VectorAffineFunction{Float64},MathOptInterface.SecondOrderCone}(1))"
      ]
     },
     "execution_count": 24,
     "metadata": {},
     "output_type": "execute_result"
    }
   ],
   "source": [
    "m = Model()\n",
    "@variable(m, x[1:2])\n",
    "@constraint(m, [t;A*x+u] in SecondOrderCone())"
   ]
  },
  {
   "cell_type": "markdown",
   "metadata": {},
   "source": [
    "Second order cone constraints:\n",
    "$$ \n",
    "\\begin{equation}\n",
    "\\left\\| Ax+u \\right\\|_2 \\leq t \\cdot w,\\quad w\\geq 0\n",
    "\\end{equation}\n",
    "$$"
   ]
  },
  {
   "cell_type": "code",
   "execution_count": 25,
   "metadata": {},
   "outputs": [
    {
     "data": {
      "text/plain": [
       "JuMP.ConstraintRef{JuMP.Model,MathOptInterface.ConstraintIndex{MathOptInterface.VectorAffineFunction{Float64},MathOptInterface.RotatedSecondOrderCone}}(A JuMP Model, MathOptInterface.ConstraintIndex{MathOptInterface.VectorAffineFunction{Float64},MathOptInterface.RotatedSecondOrderCone}(1))"
      ]
     },
     "execution_count": 25,
     "metadata": {},
     "output_type": "execute_result"
    }
   ],
   "source": [
    "m = Model()\n",
    "@variable(m, x[1:2])\n",
    "@constraint(m, [t;w;A*x+u] in RotatedSecondOrderCone())"
   ]
  }
 ],
 "metadata": {
  "anaconda-cloud": {},
  "kernelspec": {
   "display_name": "Julia 0.6.2",
   "language": "julia",
   "name": "julia-0.6"
  },
  "language_info": {
   "file_extension": ".jl",
   "mimetype": "application/julia",
   "name": "julia",
   "version": "0.6.2"
  }
 },
 "nbformat": 4,
 "nbformat_minor": 2
}

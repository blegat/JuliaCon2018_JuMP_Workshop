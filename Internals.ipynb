{
 "cells": [
  {
   "cell_type": "markdown",
   "metadata": {},
   "source": [
    "# The JuMP ecosystem for mathematical optimization: Internals\n",
    "\n",
    "This notebook is part of a workshop at [JuliaCon 2018](http://juliacon.org/2018/) and is based on materials and notebooks from various sources including the [JuliaOpt notebooks](https://github.com/JuliaOpt/juliaopt-notebooks), the [2018 ISCO Spring School](https://github.com/joehuchette/ISCO-spring-school) and the [second annual JuMP-dev workshop](http://www.juliaopt.org/meetings/bordeaux2018/).\n",
    "\n",
    "## Disclaimer\n",
    "This notebook is only working under the versions:\n",
    "\n",
    "- JuMP 0.19 (unreleased, but currently in master)\n",
    "\n",
    "- MathOptInterface 0.4.1\n",
    "\n",
    "- GLPK 0.6.0"
   ]
  },
  {
   "cell_type": "code",
   "execution_count": 23,
   "metadata": {},
   "outputs": [],
   "source": [
    "using JuMP  \n",
    "using MathOptInterface # Replaces MathProgBase\n",
    "# shortcuts\n",
    "const MOI = MathOptInterface\n",
    "const MOIU = MathOptInterface.Utilities\n",
    "\n",
    "using GLPK # Loading the GLPK module for using its solver\n",
    "using Compat"
   ]
  },
  {
   "cell_type": "markdown",
   "metadata": {
    "collapsed": true
   },
   "source": [
    "## JuMP Containers"
   ]
  },
  {
   "cell_type": "code",
   "execution_count": 2,
   "metadata": {},
   "outputs": [
    {
     "data": {
      "text/plain": [
       "Dict{Any,JuMP.VariableRef} with 3 entries:\n",
       "  3 => h[3]\n",
       "  5 => h[5]\n",
       "  1 => h[1]"
      ]
     },
     "execution_count": 2,
     "metadata": {},
     "output_type": "execute_result"
    }
   ],
   "source": [
    "m = Model(optimizer = GLPK.GLPKOptimizerLP())\n",
    "@variable(m, x[i=1:5, j=1:5])                        # Array      <=> @variable(m, x[i=1:5, j=1:5], container = Auto)\n",
    "set_1 = Base.OneTo(5)\n",
    "@variable(m, y[i=set_1, j=1:5])                      # Array\n",
    "set_2 = 1:5\n",
    "@variable(m, z1[i=1:5, j=set_2])                     # JuMPArray\n",
    "@variable(m, z2[i=1:5, j=set_2], container = Array)  # Array\n",
    "a = 1\n",
    "@variable(m, zz1[i=1:5, j=a:5])                      # JuMPArray\n",
    "@variable(m, zz2[i=1:5, j=a:5], container = Array)   # Array\n",
    "set_3 = [:a, :b, :c]\n",
    "@variable(m, w[i=set_2, j=set_3])                    # JuMPArray\n",
    "@variable(m, t[i=set_2, j=1:i])                      # Dict\n",
    "@variable(m, h[i = 1:5; j=isodd(i)])                 # Dict"
   ]
  },
  {
   "cell_type": "markdown",
   "metadata": {},
   "source": [
    "Auto chooses the tightest applicable container based on compile-time information only and is **type stable**"
   ]
  },
  {
   "cell_type": "markdown",
   "metadata": {},
   "source": [
    "### `x[i=1:5, j=1:5]`"
   ]
  },
  {
   "cell_type": "code",
   "execution_count": 3,
   "metadata": {},
   "outputs": [
    {
     "data": {
      "text/plain": [
       ":((Main.Array){JuMP.VariableRef}(Main.undef, ((Main.length)(1:5), (Main.length)(1:5))...))"
      ]
     },
     "execution_count": 3,
     "metadata": {},
     "output_type": "execute_result"
    }
   ],
   "source": [
    "#@macroexpand @variable(m, x[i=1:5, j=1:5])  # Array\n",
    "refcall, idxvars, idxsets, condition = JuMP.buildrefsets(:(x[i=1:5, j=1:5]))\n",
    "containercode, autoduplicatecheck = JuMP.generatecontainer(VariableRef, idxvars, idxsets, :Auto)\n",
    "macro tempmacro()\n",
    "    containercode\n",
    "end\n",
    "@macroexpand @tempmacro "
   ]
  },
  {
   "cell_type": "markdown",
   "metadata": {},
   "source": [
    "### `y[i=set_1, j=1:5], set_1 = Base.OneTo(5)`"
   ]
  },
  {
   "cell_type": "code",
   "execution_count": 4,
   "metadata": {},
   "outputs": [
    {
     "data": {
      "text/plain": [
       ":(if $(Expr(:&&, :(set_1 isa Main.Base.OneTo))) # /Users/jvielma/.julia/v0.6/JuMP/src/containers.jl, line 110:\n",
       "        (Main.Array){JuMP.VariableRef}(Main.undef, ((Main.length)(set_1), (Main.length)(1:5))...)\n",
       "    else  # /Users/jvielma/.julia/v0.6/JuMP/src/containers.jl, line 110:\n",
       "        Main.JuMP.JuMPArray((Main.Array){JuMP.VariableRef}(Main.undef, ((Main.length)(set_1), (Main.length)(1:5))...), set_1, 1:5)\n",
       "    end)"
      ]
     },
     "execution_count": 4,
     "metadata": {},
     "output_type": "execute_result"
    }
   ],
   "source": [
    "#@macroexpand @variable(m, y[i=set_1, j=1:5]) # Array\n",
    "refcall, idxvars, idxsets, condition = JuMP.buildrefsets(:(y[i=set_1, j=1:5]))\n",
    "containercode, autoduplicatecheck = JuMP.generatecontainer(VariableRef, idxvars, idxsets, :Auto)\n",
    "macro tempmacro()\n",
    "    containercode\n",
    "end\n",
    "@macroexpand @tempmacro "
   ]
  },
  {
   "cell_type": "markdown",
   "metadata": {},
   "source": [
    "### `z[i=1:5, j=set_2], set_2 = 1:5`"
   ]
  },
  {
   "cell_type": "code",
   "execution_count": 5,
   "metadata": {},
   "outputs": [
    {
     "data": {
      "text/plain": [
       ":(if $(Expr(:&&, :(set_2 isa Main.Base.OneTo))) # /Users/jvielma/.julia/v0.6/JuMP/src/containers.jl, line 110:\n",
       "        (Main.Array){JuMP.VariableRef}(Main.undef, ((Main.length)(1:5), (Main.length)(set_2))...)\n",
       "    else  # /Users/jvielma/.julia/v0.6/JuMP/src/containers.jl, line 110:\n",
       "        Main.JuMP.JuMPArray((Main.Array){JuMP.VariableRef}(Main.undef, ((Main.length)(1:5), (Main.length)(set_2))...), 1:5, set_2)\n",
       "    end)"
      ]
     },
     "execution_count": 5,
     "metadata": {},
     "output_type": "execute_result"
    }
   ],
   "source": [
    "#@macroexpand @variable(m, z1[i=1:5, j=set_2])  # JuMPArray\n",
    "refcall, idxvars, idxsets, condition = JuMP.buildrefsets(:(z[i=1:5, j=set_2]))\n",
    "containercode, autoduplicatecheck = JuMP.generatecontainer(VariableRef, idxvars, idxsets, :Auto)\n",
    "macro tempmacro()\n",
    "    containercode\n",
    "end\n",
    "@macroexpand @tempmacro "
   ]
  },
  {
   "cell_type": "code",
   "execution_count": 6,
   "metadata": {},
   "outputs": [
    {
     "data": {
      "text/plain": [
       "quote \n",
       "    $(Expr(:&&, :(Main.JuMP.validarrayindexset(set_2)))) || (Main.error)(\"Index set for array is not one-based interval.\")\n",
       "    (Main.Array){JuMP.VariableRef}(Main.undef, ((Main.length)(1:5), (Main.length)(set_2))...)\n",
       "end"
      ]
     },
     "execution_count": 6,
     "metadata": {},
     "output_type": "execute_result"
    }
   ],
   "source": [
    "#@macroexpand @variable(m, z2[i=1:5, j=set_2], container = Array) # Array  \n",
    "refcall, idxvars, idxsets, condition = JuMP.buildrefsets(:(z[i=1:5, j=set_2]))\n",
    "containercode, autoduplicatecheck = JuMP.generatecontainer(VariableRef, idxvars, idxsets, :Array)\n",
    "macro tempmacro()\n",
    "    containercode\n",
    "end\n",
    "@macroexpand @tempmacro "
   ]
  },
  {
   "cell_type": "code",
   "execution_count": 7,
   "metadata": {},
   "outputs": [
    {
     "data": {
      "text/plain": [
       "CodeInfo(:(begin \n",
       "        return ((Core.getfield)(r, :start)::Int64 === 1)::Bool\n",
       "    end))=>Bool"
      ]
     },
     "execution_count": 7,
     "metadata": {},
     "output_type": "execute_result"
    }
   ],
   "source": [
    "@code_typed JuMP.validarrayindexset(set_2)"
   ]
  },
  {
   "cell_type": "code",
   "execution_count": 8,
   "metadata": {},
   "outputs": [
    {
     "data": {
      "text/html": [
       "3 methods for generic function <b>validarrayindexset</b>:<ul><li> validarrayindexset(::<b>Base.OneTo</b>) at <a href=\"https://github.com/JuliaOpt/JuMP.jl/tree/b160ed690f525de1a78b757e5a1943fe838f4abe//src/containers.jl#L8\" target=\"_blank\">/Users/jvielma/.julia/v0.6/JuMP/src/containers.jl:8</a></li> <li> validarrayindexset(r::<b>UnitRange</b>) at <a href=\"https://github.com/JuliaOpt/JuMP.jl/tree/b160ed690f525de1a78b757e5a1943fe838f4abe//src/containers.jl#L9\" target=\"_blank\">/Users/jvielma/.julia/v0.6/JuMP/src/containers.jl:9</a></li> <li> validarrayindexset(s) at <a href=\"https://github.com/JuliaOpt/JuMP.jl/tree/b160ed690f525de1a78b757e5a1943fe838f4abe//src/containers.jl#L10\" target=\"_blank\">/Users/jvielma/.julia/v0.6/JuMP/src/containers.jl:10</a></li> </ul>"
      ],
      "text/plain": [
       "# 3 methods for generic function \"validarrayindexset\":\n",
       "validarrayindexset(::Base.OneTo) in JuMP at /Users/jvielma/.julia/v0.6/JuMP/src/containers.jl:8\n",
       "validarrayindexset(r::UnitRange) in JuMP at /Users/jvielma/.julia/v0.6/JuMP/src/containers.jl:9\n",
       "validarrayindexset(s) in JuMP at /Users/jvielma/.julia/v0.6/JuMP/src/containers.jl:10"
      ]
     },
     "execution_count": 8,
     "metadata": {},
     "output_type": "execute_result"
    }
   ],
   "source": [
    "methods(JuMP.validarrayindexset)"
   ]
  },
  {
   "cell_type": "code",
   "execution_count": 9,
   "metadata": {},
   "outputs": [
    {
     "data": {
      "text/plain": [
       "CodeInfo(:(begin \n",
       "        return true\n",
       "    end))=>Bool"
      ]
     },
     "execution_count": 9,
     "metadata": {},
     "output_type": "execute_result"
    }
   ],
   "source": [
    "@code_typed JuMP.validarrayindexset(set_1)"
   ]
  },
  {
   "cell_type": "markdown",
   "metadata": {},
   "source": [
    "### `zz[i=1:5, j=a:5], a = 1`"
   ]
  },
  {
   "cell_type": "code",
   "execution_count": 10,
   "metadata": {},
   "outputs": [
    {
     "data": {
      "text/plain": [
       ":(if $(Expr(:&&, :(a:5 isa Main.Base.OneTo))) # /Users/jvielma/.julia/v0.6/JuMP/src/containers.jl, line 110:\n",
       "        (Main.Array){JuMP.VariableRef}(Main.undef, ((Main.length)(1:5), (Main.length)(a:5))...)\n",
       "    else  # /Users/jvielma/.julia/v0.6/JuMP/src/containers.jl, line 110:\n",
       "        Main.JuMP.JuMPArray((Main.Array){JuMP.VariableRef}(Main.undef, ((Main.length)(1:5), (Main.length)(a:5))...), 1:5, a:5)\n",
       "    end)"
      ]
     },
     "execution_count": 10,
     "metadata": {},
     "output_type": "execute_result"
    }
   ],
   "source": [
    "#@macroexpand @variable(m, zz1[i=1:5, j=a:5])  # JuMPArray\n",
    "refcall, idxvars, idxsets, condition = JuMP.buildrefsets(:(zz1[i=1:5, j=a:5]))\n",
    "containercode, autoduplicatecheck = JuMP.generatecontainer(VariableRef, idxvars, idxsets, :Auto)\n",
    "macro tempmacro()\n",
    "    containercode\n",
    "end\n",
    "@macroexpand @tempmacro "
   ]
  },
  {
   "cell_type": "code",
   "execution_count": 11,
   "metadata": {},
   "outputs": [
    {
     "data": {
      "text/plain": [
       "quote \n",
       "    $(Expr(:&&, :(Main.JuMP.validarrayindexset(a:5)))) || (Main.error)(\"Index set for array is not one-based interval.\")\n",
       "    (Main.Array){JuMP.VariableRef}(Main.undef, ((Main.length)(1:5), (Main.length)(a:5))...)\n",
       "end"
      ]
     },
     "execution_count": 11,
     "metadata": {},
     "output_type": "execute_result"
    }
   ],
   "source": [
    "#@macroexpand @variable(m, zz1[i=1:5, j=a:5], container = Array)   # Array\n",
    "refcall, idxvars, idxsets, condition = JuMP.buildrefsets(:(zz1[i=1:5, j=a:5]))\n",
    "containercode, autoduplicatecheck = JuMP.generatecontainer(VariableRef, idxvars, idxsets, :Array)\n",
    "macro tempmacro()\n",
    "    containercode\n",
    "end\n",
    "@macroexpand @tempmacro "
   ]
  },
  {
   "cell_type": "code",
   "execution_count": 12,
   "metadata": {},
   "outputs": [
    {
     "data": {
      "text/plain": [
       "CodeInfo(:(begin \n",
       "        return ((Core.getfield)(r, :start)::Int64 === 1)::Bool\n",
       "    end))=>Bool"
      ]
     },
     "execution_count": 12,
     "metadata": {},
     "output_type": "execute_result"
    }
   ],
   "source": [
    "@code_typed JuMP.validarrayindexset(a:5)"
   ]
  },
  {
   "cell_type": "markdown",
   "metadata": {},
   "source": [
    "### Warning: Testing with JuMP.validarrayindexset may **NOT** be **type stable**"
   ]
  },
  {
   "cell_type": "code",
   "execution_count": 13,
   "metadata": {},
   "outputs": [
    {
     "data": {
      "text/plain": [
       "getmyvariables (generic function with 1 method)"
      ]
     },
     "execution_count": 13,
     "metadata": {},
     "output_type": "execute_result"
    }
   ],
   "source": [
    "function getmyvariables(m,set)\n",
    "    @variable(m,[set])\n",
    "end"
   ]
  },
  {
   "cell_type": "code",
   "execution_count": 14,
   "metadata": {},
   "outputs": [
    {
     "data": {
      "text/plain": [
       "getmyvariableswithtesting (generic function with 1 method)"
      ]
     },
     "execution_count": 14,
     "metadata": {},
     "output_type": "execute_result"
    }
   ],
   "source": [
    "function getmyvariableswithtesting(m,set)\n",
    "    if JuMP.validarrayindexset(set)\n",
    "        return @variable(m,[set],container=Array)\n",
    "    else\n",
    "        return @variable(m,[set])\n",
    "    end\n",
    "end"
   ]
  },
  {
   "cell_type": "code",
   "execution_count": 15,
   "metadata": {},
   "outputs": [
    {
     "name": "stdout",
     "output_type": "stream",
     "text": [
      "  end::Array{JuMP.VariableRef,1}"
     ]
    }
   ],
   "source": [
    "tempbuff = IOBuffer()\n",
    "code_warntype(tempbuff,getmyvariableswithtesting,Tuple{typeof(m),typeof(set_1)})\n",
    "seekstart(tempbuff)\n",
    "print(readlines(tempbuff)[end])"
   ]
  },
  {
   "cell_type": "code",
   "execution_count": 16,
   "metadata": {},
   "outputs": [
    {
     "name": "stdout",
     "output_type": "stream",
     "text": [
      "  end\u001b[1m\u001b[91m::Union{Array{JuMP.VariableRef,1}, JuMP.JuMPArray{JuMP.VariableRef,1,Tuple{UnitRange{Int64}},Tuple{Dict{Int64,Int64}}}}\u001b[39m\u001b[22m"
     ]
    }
   ],
   "source": [
    "tempbuff = IOBuffer()\n",
    "code_warntype(tempbuff,getmyvariableswithtesting,Tuple{typeof(m),typeof(set_2)})\n",
    "seekstart(tempbuff)\n",
    "print(readlines(tempbuff)[end])"
   ]
  },
  {
   "cell_type": "code",
   "execution_count": 17,
   "metadata": {},
   "outputs": [
    {
     "name": "stdout",
     "output_type": "stream",
     "text": [
      "  end::JuMP.JuMPArray{JuMP.VariableRef,1,Tuple{UnitRange{Int64}},Tuple{Dict{Int64,Int64}}}"
     ]
    }
   ],
   "source": [
    "tempbuff = IOBuffer()\n",
    "code_warntype(tempbuff,getmyvariables,Tuple{typeof(m),typeof(set_2)})\n",
    "seekstart(tempbuff)\n",
    "print(readlines(tempbuff)[end])"
   ]
  },
  {
   "cell_type": "markdown",
   "metadata": {},
   "source": [
    "`@variable` should always be type stable: "
   ]
  },
  {
   "cell_type": "code",
   "execution_count": 18,
   "metadata": {},
   "outputs": [
    {
     "data": {
      "text/plain": [
       "getmyvariablesarray (generic function with 1 method)"
      ]
     },
     "execution_count": 18,
     "metadata": {},
     "output_type": "execute_result"
    }
   ],
   "source": [
    "function getmyvariablesarray(m,set)\n",
    "    @variable(m,[set], container=Array)\n",
    "end"
   ]
  },
  {
   "cell_type": "code",
   "execution_count": 19,
   "metadata": {},
   "outputs": [
    {
     "name": "stdout",
     "output_type": "stream",
     "text": [
      "  end::Array{JuMP.VariableRef,1}"
     ]
    }
   ],
   "source": [
    "tempbuff = IOBuffer()\n",
    "code_warntype(tempbuff,getmyvariablesarray,Tuple{typeof(m),typeof(set_1)})\n",
    "seekstart(tempbuff)\n",
    "print(readlines(tempbuff)[end])"
   ]
  },
  {
   "cell_type": "code",
   "execution_count": 20,
   "metadata": {},
   "outputs": [
    {
     "name": "stdout",
     "output_type": "stream",
     "text": [
      "  end::Array{JuMP.VariableRef,1}"
     ]
    }
   ],
   "source": [
    "tempbuff = IOBuffer()\n",
    "code_warntype(tempbuff,getmyvariablesarray,Tuple{typeof(m),typeof(set_2)})\n",
    "seekstart(tempbuff)\n",
    "print(readlines(tempbuff)[end])"
   ]
  },
  {
   "cell_type": "code",
   "execution_count": 21,
   "metadata": {},
   "outputs": [
    {
     "name": "stdout",
     "output_type": "stream",
     "text": [
      "  end\u001b[1m\u001b[91m::Union{}\u001b[39m\u001b[22m"
     ]
    }
   ],
   "source": [
    "tempbuff = IOBuffer()\n",
    "code_warntype(tempbuff,getmyvariablesarray,Tuple{typeof(m),typeof(set_3)})\n",
    "seekstart(tempbuff)\n",
    "print(readlines(tempbuff)[end])"
   ]
  },
  {
   "cell_type": "code",
   "execution_count": 22,
   "metadata": {},
   "outputs": [
    {
     "name": "stdout",
     "output_type": "stream",
     "text": [
      "Variables:\n",
      "  #self# <optimized out>\n",
      "  m <optimized out>\n",
      "  set <optimized out>\n",
      "  #temp# <optimized out>\n",
      "  685 <optimized out>\n",
      "  ##684 <optimized out>\n",
      "\n",
      "Body:\n",
      "  begin \n",
      "      # meta: location /Users/jvielma/.julia/v0.6/JuMP/src/macros.jl # line 159:\n",
      "      goto 4\n",
      "      4: \n",
      "      (Base.throw)($(Expr(:new, :(Core.ErrorException), \"Index set for array is not one-based interval.\")))\u001b[1m\u001b[91m::Union{}\u001b[39m\u001b[22m\n",
      "      # meta: pop location\n",
      "  end\u001b[1m\u001b[91m::Union{}\u001b[39m\u001b[22m\n"
     ]
    }
   ],
   "source": [
    "@code_warntype getmyvariablesarray(m,set_3)"
   ]
  },
  {
   "cell_type": "code",
   "execution_count": null,
   "metadata": {
    "collapsed": true
   },
   "outputs": [],
   "source": []
  }
 ],
 "metadata": {
  "kernelspec": {
   "display_name": "Julia 0.6.2",
   "language": "julia",
   "name": "julia-0.6"
  },
  "language_info": {
   "file_extension": ".jl",
   "mimetype": "application/julia",
   "name": "julia",
   "version": "0.6.2"
  }
 },
 "nbformat": 4,
 "nbformat_minor": 2
}

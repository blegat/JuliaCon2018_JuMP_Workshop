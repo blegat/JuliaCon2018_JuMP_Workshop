{
 "cells": [
  {
   "cell_type": "markdown",
   "metadata": {},
   "source": [
    "# The JuMP ecosystem for mathematical optimization: MOI\n",
    "\n",
    "This notebook is part of a workshop at [JuliaCon 2018](http://juliacon.org/2018/) and is based on materials and notebooks from various sources including the [JuliaOpt notebooks](https://github.com/JuliaOpt/juliaopt-notebooks), the [2018 ISCO Spring School](https://github.com/joehuchette/ISCO-spring-school) and the [second annual JuMP-dev workshop](http://www.juliaopt.org/meetings/bordeaux2018/).\n",
    "\n",
    "## Disclaimer\n",
    "This notebook is only working under the versions:\n",
    "\n",
    "- JuMP 0.19 (unreleased, but currently in master)\n",
    "\n",
    "- MathOptInterface 0.4.1\n",
    "\n",
    "- GLPK 0.6.0"
   ]
  },
  {
   "cell_type": "code",
   "execution_count": 1,
   "metadata": {
    "collapsed": true
   },
   "outputs": [],
   "source": [
    "using JuMP  \n",
    "using MathOptInterface # Replaces MathProgBase\n",
    "# shortcuts\n",
    "const MOI = MathOptInterface\n",
    "const MOIU = MathOptInterface.Utilities\n",
    "\n",
    "using GLPK # Loading the GLPK module for using its solver"
   ]
  },
  {
   "cell_type": "markdown",
   "metadata": {},
   "source": [
    "## MOI and JuMP"
   ]
  },
  {
   "cell_type": "code",
   "execution_count": 2,
   "metadata": {
    "collapsed": true
   },
   "outputs": [],
   "source": [
    "model = Model()\n",
    "@variable(model, x[1:2])\n",
    "@constraint(model, linear1, 2*x[1] +   x[2] <= 1)  # save reference linear1 for this constraint\n",
    "@constraint(model, 2*x[1] + 2*x[2] <= 1) \n",
    "@constraint(model, x[1]^2 + x[2]^2 <= 1)  \n",
    "@constraint(model, [1;x] in SecondOrderCone())  # ||x|| <= 1\n",
    "@objective(model, Max, x[1] + x[2]) "
   ]
  },
  {
   "cell_type": "markdown",
   "metadata": {},
   "source": [
    "Behind every JuMP model there is a MOI model (used to be a MPB model)"
   ]
  },
  {
   "cell_type": "code",
   "execution_count": 3,
   "metadata": {},
   "outputs": [
    {
     "data": {
      "text/plain": [
       "MathOptInterface.Bridges.LazyBridgeOptimizer{MathOptInterface.Utilities.CachingOptimizer{MathOptInterface.AbstractOptimizer,MathOptInterface.Utilities.UniversalFallback{JuMP.JuMPMOIModel{Float64}}},MathOptInterface.Bridges.AllBridgedConstraints{Float64}}"
      ]
     },
     "execution_count": 3,
     "metadata": {},
     "output_type": "execute_result"
    }
   ],
   "source": [
    "typeof(model.moibackend)"
   ]
  },
  {
   "cell_type": "markdown",
   "metadata": {},
   "source": [
    "### Recovering variables:"
   ]
  },
  {
   "cell_type": "code",
   "execution_count": 4,
   "metadata": {},
   "outputs": [
    {
     "data": {
      "text/plain": [
       "2-element Array{MathOptInterface.VariableIndex,1}:\n",
       " MathOptInterface.VariableIndex(1)\n",
       " MathOptInterface.VariableIndex(2)"
      ]
     },
     "execution_count": 4,
     "metadata": {},
     "output_type": "execute_result"
    }
   ],
   "source": [
    "xx = MOI.get(model.moibackend,MOI.ListOfVariableIndices()) "
   ]
  },
  {
   "cell_type": "code",
   "execution_count": 5,
   "metadata": {},
   "outputs": [
    {
     "data": {
      "text/plain": [
       "true"
      ]
     },
     "execution_count": 5,
     "metadata": {},
     "output_type": "execute_result"
    }
   ],
   "source": [
    "x[1].index == xx[1]"
   ]
  },
  {
   "cell_type": "code",
   "execution_count": 6,
   "metadata": {},
   "outputs": [
    {
     "data": {
      "text/plain": [
       "true"
      ]
     },
     "execution_count": 6,
     "metadata": {},
     "output_type": "execute_result"
    }
   ],
   "source": [
    "x[1].m == model"
   ]
  },
  {
   "cell_type": "code",
   "execution_count": 7,
   "metadata": {},
   "outputs": [
    {
     "data": {
      "text/plain": [
       "JuMP.VariableRef"
      ]
     },
     "execution_count": 7,
     "metadata": {},
     "output_type": "execute_result"
    }
   ],
   "source": [
    "typeof(x[1])"
   ]
  },
  {
   "cell_type": "markdown",
   "metadata": {},
   "source": [
    "JuMP variable : MOI variable + owning model\n",
    "```julia\n",
    "struct VariableRef \n",
    "    m::Model\n",
    "    index::MOI.VariableIndex\n",
    "end\n",
    "```\n",
    "\n",
    "MOI variable : Type-safe unique and not necessarily consecutive index\n",
    "```julia\n",
    "struct VariableIndex\n",
    "    value::Int64\n",
    "end\n",
    "```"
   ]
  },
  {
   "cell_type": "markdown",
   "metadata": {},
   "source": [
    "### Recovering constraints:"
   ]
  },
  {
   "cell_type": "code",
   "execution_count": 8,
   "metadata": {},
   "outputs": [
    {
     "data": {
      "text/plain": [
       "3-element Array{Tuple{DataType,DataType},1}:\n",
       " (MathOptInterface.ScalarAffineFunction{Float64}, MathOptInterface.LessThan{Float64})   \n",
       " (MathOptInterface.ScalarQuadraticFunction{Float64}, MathOptInterface.LessThan{Float64})\n",
       " (MathOptInterface.VectorAffineFunction{Float64}, MathOptInterface.SecondOrderCone)     "
      ]
     },
     "execution_count": 8,
     "metadata": {},
     "output_type": "execute_result"
    }
   ],
   "source": [
    "L,Q,C = MOI.get(model.moibackend,MOI.ListOfConstraints())"
   ]
  },
  {
   "cell_type": "markdown",
   "metadata": {},
   "source": [
    "MOI constraints are of the form \n",
    "$$\n",
    "f(x) \\in S\n",
    "$$\n",
    "were\n",
    "* $f$ is an ``MOI.AbstractFunction`` (e.g. ``MOI.ScalarAffineFunction`` = $a^T x +b$ for some $a,b$) and\n",
    "* $S$ is an ``MOI.AbstractSet`` (e.g. ``MOI.LessThan`` = $\\{y\\,:\\, y\\leq u\\}$ for some $u$)"
   ]
  },
  {
   "cell_type": "markdown",
   "metadata": {},
   "source": [
    "#### Linear inequalities (``MOI.ScalarAffineFunction``-in-``MOI.LessThan``):"
   ]
  },
  {
   "cell_type": "code",
   "execution_count": 9,
   "metadata": {},
   "outputs": [
    {
     "data": {
      "text/plain": [
       "2-element Array{MathOptInterface.ConstraintIndex{MathOptInterface.ScalarAffineFunction{Float64},MathOptInterface.LessThan{Float64}},1}:\n",
       " MathOptInterface.ConstraintIndex{MathOptInterface.ScalarAffineFunction{Float64},MathOptInterface.LessThan{Float64}}(1)\n",
       " MathOptInterface.ConstraintIndex{MathOptInterface.ScalarAffineFunction{Float64},MathOptInterface.LessThan{Float64}}(2)"
      ]
     },
     "execution_count": 9,
     "metadata": {},
     "output_type": "execute_result"
    }
   ],
   "source": [
    "linear = MOI.get(model.moibackend,MOI.ListOfConstraintIndices{MOI.ScalarAffineFunction{Float64}, MOI.LessThan{Float64}}())  #MOI.get(model.moibackend,MOI.ListOfConstraintIndices{L...}())"
   ]
  },
  {
   "cell_type": "code",
   "execution_count": 10,
   "metadata": {},
   "outputs": [
    {
     "data": {
      "text/plain": [
       "true"
      ]
     },
     "execution_count": 10,
     "metadata": {},
     "output_type": "execute_result"
    }
   ],
   "source": [
    "linear1.index == linear[1]"
   ]
  },
  {
   "cell_type": "code",
   "execution_count": 11,
   "metadata": {},
   "outputs": [
    {
     "data": {
      "text/plain": [
       "2-element Array{Symbol,1}:\n",
       " :m    \n",
       " :index"
      ]
     },
     "execution_count": 11,
     "metadata": {},
     "output_type": "execute_result"
    }
   ],
   "source": [
    "fieldnames(linear1)"
   ]
  },
  {
   "cell_type": "code",
   "execution_count": 12,
   "metadata": {},
   "outputs": [
    {
     "data": {
      "text/plain": [
       "true"
      ]
     },
     "execution_count": 12,
     "metadata": {},
     "output_type": "execute_result"
    }
   ],
   "source": [
    "linear1.m == model"
   ]
  },
  {
   "cell_type": "code",
   "execution_count": 13,
   "metadata": {},
   "outputs": [
    {
     "data": {
      "text/plain": [
       "JuMP.ConstraintRef{JuMP.Model,MathOptInterface.ConstraintIndex{MathOptInterface.ScalarAffineFunction{Float64},MathOptInterface.LessThan{Float64}}}"
      ]
     },
     "execution_count": 13,
     "metadata": {},
     "output_type": "execute_result"
    }
   ],
   "source": [
    "typeof(linear1)"
   ]
  },
  {
   "cell_type": "markdown",
   "metadata": {},
   "source": [
    "JuMP constraint : MOI constraint + owning model\n",
    "```julia\n",
    "struct ConstraintRef{C}\n",
    "    m::Model\n",
    "    index::C             # C = ConstraintIndex{F,S} for some F,S\n",
    "end\n",
    "```\n",
    "\n",
    "MOI constraint : Type-safe wrapper of index to constraint of class F-in-S. Index not necessarily consecutive and unique within constraint class\n",
    "```julia\n",
    "struct ConstraintIndex{F,S}\n",
    "    value::Int64\n",
    "end\n",
    "```"
   ]
  },
  {
   "cell_type": "markdown",
   "metadata": {},
   "source": [
    "Linear inequalities 1 : \n",
    "* ``2*x[1] + x[2] <= 1``, or\n",
    "* $a^T x + b \\in \\{y:y\\leq u\\}$ for $a=(2,1)^T$, $b=0$ and $u=0$ "
   ]
  },
  {
   "cell_type": "markdown",
   "metadata": {},
   "source": [
    "$a=(2,1)^T$:"
   ]
  },
  {
   "cell_type": "code",
   "execution_count": 14,
   "metadata": {},
   "outputs": [
    {
     "data": {
      "text/plain": [
       "2-element Array{MathOptInterface.ScalarAffineTerm{Float64},1}:\n",
       " MathOptInterface.ScalarAffineTerm{Float64}(2.0, MathOptInterface.VariableIndex(1))\n",
       " MathOptInterface.ScalarAffineTerm{Float64}(1.0, MathOptInterface.VariableIndex(2))"
      ]
     },
     "execution_count": 14,
     "metadata": {},
     "output_type": "execute_result"
    }
   ],
   "source": [
    "MOI.get(model.moibackend,MOI.ConstraintFunction(),linear[1]).terms"
   ]
  },
  {
   "cell_type": "markdown",
   "metadata": {},
   "source": [
    "$b=0$:"
   ]
  },
  {
   "cell_type": "code",
   "execution_count": 15,
   "metadata": {},
   "outputs": [
    {
     "data": {
      "text/plain": [
       "0.0"
      ]
     },
     "execution_count": 15,
     "metadata": {},
     "output_type": "execute_result"
    }
   ],
   "source": [
    "MOI.get(model.moibackend,MOI.ConstraintFunction(),linear[1]).constant"
   ]
  },
  {
   "cell_type": "markdown",
   "metadata": {},
   "source": [
    "$u=0$:"
   ]
  },
  {
   "cell_type": "code",
   "execution_count": 16,
   "metadata": {},
   "outputs": [
    {
     "data": {
      "text/plain": [
       "1.0"
      ]
     },
     "execution_count": 16,
     "metadata": {},
     "output_type": "execute_result"
    }
   ],
   "source": [
    "MOI.get(model.moibackend,MOI.ConstraintSet(),linear[1]).upper"
   ]
  },
  {
   "cell_type": "markdown",
   "metadata": {},
   "source": [
    "Similar for othet constrsints:"
   ]
  },
  {
   "cell_type": "code",
   "execution_count": 17,
   "metadata": {},
   "outputs": [
    {
     "data": {
      "text/plain": [
       "1-element Array{MathOptInterface.ConstraintIndex{MathOptInterface.ScalarQuadraticFunction{Float64},MathOptInterface.LessThan{Float64}},1}:\n",
       " MathOptInterface.ConstraintIndex{MathOptInterface.ScalarQuadraticFunction{Float64},MathOptInterface.LessThan{Float64}}(3)"
      ]
     },
     "execution_count": 17,
     "metadata": {},
     "output_type": "execute_result"
    }
   ],
   "source": [
    "MOI.get(model.moibackend,MOI.ListOfConstraintIndices{MOI.ScalarQuadraticFunction{Float64}, MOI.LessThan{Float64}}())  #MOI.get(model.moibackend,MOI.ListOfConstraintIndices{Q...}())"
   ]
  },
  {
   "cell_type": "code",
   "execution_count": 18,
   "metadata": {},
   "outputs": [
    {
     "data": {
      "text/plain": [
       "1-element Array{MathOptInterface.ConstraintIndex{MathOptInterface.VectorAffineFunction{Float64},MathOptInterface.SecondOrderCone},1}:\n",
       " MathOptInterface.ConstraintIndex{MathOptInterface.VectorAffineFunction{Float64},MathOptInterface.SecondOrderCone}(4)"
      ]
     },
     "execution_count": 18,
     "metadata": {},
     "output_type": "execute_result"
    }
   ],
   "source": [
    "MOI.get(model.moibackend,MOI.ListOfConstraintIndices{MOI.VectorAffineFunction{Float64}, MOI.SecondOrderCone}())  #MOI.get(model.moibackend,MOI.ListOfConstraintIndices{C...}())"
   ]
  },
  {
   "cell_type": "markdown",
   "metadata": {},
   "source": [
    "## MOI Constraints"
   ]
  },
  {
   "cell_type": "markdown",
   "metadata": {},
   "source": [
    "| Mathematical Constraint       | MOI Function                 | MOI Set        |\n",
    "|-------------------------------|------------------------------|----------------|\n",
    "| $a^Tx = b$                  | `ScalarAffineFunction`       | `EqualTo`      |\n",
    "| $l \\le a^Tx \\le u$          | `ScalarAffineFunction`       | `Interval`     |\n",
    "| $x_i \\le u$                 | `SingleVariable`             | `LessThan`     |\n",
    "| $Ax + b \\in \\mathbb{R}_+^n$ | `VectorAffineFunction`       | `Nonnegatives` |\n",
    "| $\\lVert Ax + b\\rVert_2 \\le c^Tx + d$                        | `VectorAffineFunction`       | `SecondOrderCone` |\n",
    "| $y \\exp (x/y) \\le z, y > 0$  | `VectorOfVariables`       | `ExponentialCone`                  |\n",
    "| $x \\in \\mathbb{R}^{d\\left(d+1\\right)/2}$,◹$(x)\\in \\text{PSD} \\subseteq \\mathbb{R}^{d\\times d}$                                       | `VectorOfVariables`          | `PositiveSemidefiniteConeTriangle` |\n",
    "| $x^TQx + a^Tx + b \\ge 0$    | `ScalarQuadraticFunction`    | `GreaterThan`                 |\n",
    "| $x_i \\in \\mathbb{Z}$                                                                     | `SingleVariable`    | `Integer`                          |\n",
    "| $x_i \\in \\{0,1\\}$                                                                        | `SingleVariable`    | `ZeroOne`                          |\n",
    "| $x_i \\in \\{0\\} \\cup [l,u]$                                                               | `SingleVariable`    | `Semicontinuous`                   |\n",
    "| At most one component of $x$ can be nonzero                                              | `VectorOfVariables` | `SOS1`                             |\n",
    "\n",
    "MOI includes standard functions and sets, and allows for some extensions. See [MOI manual](http://www.juliaopt.org/MathOptInterface.jl/stable/index.html) for more details on [supported sets and functions](http://www.juliaopt.org/MathOptInterface.jl/stable/apimanual.html#Standard-form-problem-1) and more [constraint examples](http://www.juliaopt.org/MathOptInterface.jl/stable/apimanual.html#Constraints-by-function-set-pairs-1)."
   ]
  },
  {
   "cell_type": "markdown",
   "metadata": {},
   "source": [
    "### Note: there are multiple ways to write the same constraint. For more details and discussions see [Constraint Bridges](#Constraint-Bridges)."
   ]
  },
  {
   "cell_type": "markdown",
   "metadata": {},
   "source": [
    "## A Complete MOI Model"
   ]
  },
  {
   "cell_type": "code",
   "execution_count": 19,
   "metadata": {},
   "outputs": [
    {
     "name": "stdout",
     "output_type": "stream",
     "text": [
      "objvalue = 6.0\n",
      "primal_variable_result = "
     ]
    },
    {
     "data": {
      "text/plain": [
       "3-element Array{Float64,1}:\n",
       " 1.0\n",
       " 1.0\n",
       " 1.0"
      ]
     },
     "execution_count": 19,
     "metadata": {},
     "output_type": "execute_result"
    },
    {
     "name": "stdout",
     "output_type": "stream",
     "text": [
      "[1.0, 1.0, 1.0]\n"
     ]
    }
   ],
   "source": [
    "using MathOptInterface\n",
    "const MOI = MathOptInterface\n",
    "using GLPK\n",
    "\n",
    "# Solve the binary-constrained knapsack problem: max c'x: w'x <= C, x binary using GLPK.\n",
    "\n",
    "c = [1.0, 2.0, 3.0]\n",
    "w = [0.3, 0.5, 1.0]\n",
    "C = 3.2\n",
    "\n",
    "numvariables = length(c)\n",
    "\n",
    "optimizer = GLPK.GLPKOptimizerMIP()\n",
    "\n",
    "# create the variables in the problem\n",
    "x = MOI.addvariables!(optimizer, numvariables)\n",
    "\n",
    "# set the objective function\n",
    "objective_function = MOI.ScalarAffineFunction(MOI.ScalarAffineTerm.(c, x), 0.0)\n",
    "MOI.set!(optimizer, MOI.ObjectiveFunction{MOI.ScalarAffineFunction{Float64}}(), objective_function)\n",
    "MOI.set!(optimizer, MOI.ObjectiveSense(), MOI.MaxSense)\n",
    "\n",
    "# add the knapsack constraint\n",
    "knapsack_function = MOI.ScalarAffineFunction(MOI.ScalarAffineTerm.(w, x), 0.0)\n",
    "MOI.addconstraint!(optimizer, knapsack_function, MOI.LessThan(C))\n",
    "\n",
    "# add integrality constraints\n",
    "for i in 1:numvariables\n",
    "    MOI.addconstraint!(optimizer, MOI.SingleVariable(x[i]), MOI.ZeroOne())\n",
    "end\n",
    "\n",
    "# all set\n",
    "MOI.optimize!(optimizer)\n",
    "\n",
    "termination_status = MOI.get(optimizer, MOI.TerminationStatus())\n",
    "objvalue = MOI.canget(optimizer, MOI.ObjectiveValue()) ? MOI.get(optimizer, MOI.ObjectiveValue()) : NaN\n",
    "if termination_status != MOI.Success\n",
    "    error(\"Solver terminated with status $termination_status\")\n",
    "end\n",
    "\n",
    "@assert MOI.get(optimizer, MOI.ResultCount()) > 0\n",
    "\n",
    "result_status = MOI.get(optimizer, MOI.PrimalStatus())\n",
    "if result_status != MOI.FeasiblePoint\n",
    "    error(\"Solver ran successfully did not return a feasible point. The problem may be infeasible.\")\n",
    "end\n",
    "primal_variable_result = MOI.get(optimizer, MOI.VariablePrimal(), x)\n",
    "\n",
    "@show objvalue\n",
    "@show primal_variable_result"
   ]
  },
  {
   "cell_type": "markdown",
   "metadata": {},
   "source": [
    "## Model modifications"
   ]
  },
  {
   "cell_type": "code",
   "execution_count": 20,
   "metadata": {
    "collapsed": true
   },
   "outputs": [],
   "source": [
    "model = Model() \n",
    "@variable(model, x[1:2])\n",
    "@constraint(model, linear1, 2 * x[1] +   x[2] <= 1)  # save reference linear1 for this constraint\n",
    "@constraint(model, linear2, 2 * x[1] + 2 * x[2] <= 1) \n",
    "@constraint(model, quadratic, x[1]^2 + x[2]^2 <= 1)  \n",
    "@constraint(model, socp, [1;x] in SecondOrderCone())  # ||x|| <= 1\n",
    "@objective(model, Max, x[1] + x[2]) "
   ]
  },
  {
   "cell_type": "markdown",
   "metadata": {},
   "source": [
    "delete variables or constraints"
   ]
  },
  {
   "cell_type": "code",
   "execution_count": 21,
   "metadata": {
    "collapsed": true
   },
   "outputs": [],
   "source": [
    "if MOI.candelete(model.moibackend,x[1].index)\n",
    "    MOI.delete!(model.moibackend,x[1].index)\n",
    "end\n",
    "if MOI.candelete(model.moibackend,linear1.index)\n",
    "    MOI.delete!(model.moibackend,linear1.index)\n",
    "end"
   ]
  },
  {
   "cell_type": "markdown",
   "metadata": {},
   "source": [
    "modify constraints"
   ]
  },
  {
   "cell_type": "code",
   "execution_count": 22,
   "metadata": {
    "collapsed": true
   },
   "outputs": [],
   "source": [
    "if MOI.canmodify(model.moibackend, typeof(linear2.index), MOI.ScalarCoefficientChange{Float64})\n",
    "    MOI.modify!(model.moibackend, linear2.index, MOI.ScalarCoefficientChange(x[1].index, 3.0))\n",
    "end"
   ]
  },
  {
   "cell_type": "markdown",
   "metadata": {},
   "source": [
    "or completely transform them "
   ]
  },
  {
   "cell_type": "code",
   "execution_count": 23,
   "metadata": {},
   "outputs": [
    {
     "data": {
      "text/plain": [
       "MathOptInterface.ConstraintIndex{MathOptInterface.VectorAffineFunction{Float64},MathOptInterface.RotatedSecondOrderCone}(5)"
      ]
     },
     "execution_count": 23,
     "metadata": {},
     "output_type": "execute_result"
    }
   ],
   "source": [
    "rsocp = MOI.transform!(model.moibackend, socp.index, MOI.RotatedSecondOrderCone(3))"
   ]
  },
  {
   "cell_type": "code",
   "execution_count": 24,
   "metadata": {},
   "outputs": [
    {
     "data": {
      "text/plain": [
       "true"
      ]
     },
     "execution_count": 24,
     "metadata": {},
     "output_type": "execute_result"
    }
   ],
   "source": [
    "rsocp != socp"
   ]
  },
  {
   "cell_type": "code",
   "execution_count": 25,
   "metadata": {},
   "outputs": [
    {
     "data": {
      "text/plain": [
       "false"
      ]
     },
     "execution_count": 25,
     "metadata": {},
     "output_type": "execute_result"
    }
   ],
   "source": [
    "MOI.isvalid(model.moibackend,socp.index)"
   ]
  },
  {
   "cell_type": "markdown",
   "metadata": {
    "collapsed": true
   },
   "source": [
    "### Note: Modifications are as efficient \"as possible\" "
   ]
  },
  {
   "cell_type": "markdown",
   "metadata": {},
   "source": [
    "## MOI Attributes"
   ]
  },
  {
   "cell_type": "markdown",
   "metadata": {},
   "source": [
    "### For MOI Models"
   ]
  },
  {
   "cell_type": "code",
   "execution_count": 26,
   "metadata": {},
   "outputs": [
    {
     "data": {
      "text/plain": [
       "MathOptInterface.ConstraintIndex{MathOptInterface.SingleVariable,MathOptInterface.LessThan{Float64}}(1)"
      ]
     },
     "execution_count": 26,
     "metadata": {},
     "output_type": "execute_result"
    }
   ],
   "source": [
    "model = GLPK.GLPKOptimizerMIP()\n",
    "var_index = MOI.addvariable!(model)\n",
    "constr_index = MOI.addconstraint!(model,MOI.SingleVariable(var_index),MOI.LessThan(10.0))"
   ]
  },
  {
   "cell_type": "markdown",
   "metadata": {},
   "source": [
    "for building models..."
   ]
  },
  {
   "cell_type": "code",
   "execution_count": 27,
   "metadata": {},
   "outputs": [
    {
     "data": {
      "text/plain": [
       "0"
      ]
     },
     "execution_count": 27,
     "metadata": {},
     "output_type": "execute_result"
    }
   ],
   "source": [
    "MOI.set!(model,MOI.ObjectiveSense(),MOI.MaxSense)\n",
    "MOI.set!(model, MOI.ObjectiveFunction{MOI.SingleVariable}(), MOI.SingleVariable(var_index))"
   ]
  },
  {
   "cell_type": "markdown",
   "metadata": {},
   "source": [
    "and more..."
   ]
  },
  {
   "cell_type": "code",
   "execution_count": 28,
   "metadata": {
    "collapsed": true
   },
   "outputs": [],
   "source": [
    "if MOI.canset(model,MOI.VariablePrimalStart(),typeof(var_index))\n",
    "    MOI.set!(model,MOI.VariablePrimalStart(),var_index,5.0)\n",
    "end\n",
    "if MOI.canset(model,MOI.ConstraintDualStart(),typeof(constr_index))\n",
    "    MOI.set!(model,MOI.ConstraintDualStart(),constr_index,5.0)\n",
    "end"
   ]
  },
  {
   "cell_type": "markdown",
   "metadata": {},
   "source": [
    "### Also for JuMP models"
   ]
  },
  {
   "cell_type": "code",
   "execution_count": 29,
   "metadata": {},
   "outputs": [
    {
     "data": {
      "text/plain": [
       "A JuMP Model"
      ]
     },
     "execution_count": 29,
     "metadata": {},
     "output_type": "execute_result"
    }
   ],
   "source": [
    "model = Model()"
   ]
  },
  {
   "cell_type": "markdown",
   "metadata": {},
   "source": [
    "some attributes have custom macro syntax"
   ]
  },
  {
   "cell_type": "code",
   "execution_count": 30,
   "metadata": {},
   "outputs": [
    {
     "data": {
      "text/plain": [
       "MathOptInterface.SingleVariable(MathOptInterface.VariableIndex(1))"
      ]
     },
     "execution_count": 30,
     "metadata": {},
     "output_type": "execute_result"
    }
   ],
   "source": [
    "@variable(model, x >= 10.0, start = 5.0)\n",
    "@objective(model, Max, x)"
   ]
  },
  {
   "cell_type": "markdown",
   "metadata": {},
   "source": [
    "others use MOI functions"
   ]
  },
  {
   "cell_type": "code",
   "execution_count": 31,
   "metadata": {},
   "outputs": [
    {
     "data": {
      "text/plain": [
       "10.0"
      ]
     },
     "execution_count": 31,
     "metadata": {},
     "output_type": "execute_result"
    }
   ],
   "source": [
    "bound_ref = JuMP.LowerBoundRef(x).index\n",
    "if MOI.canset(model.moibackend,MOI.ConstraintDualStart(),typeof(bound_ref))\n",
    "    MOI.set!(model.moibackend,MOI.ConstraintDualStart(),bound_ref,10.0)\n",
    "end"
   ]
  },
  {
   "cell_type": "markdown",
   "metadata": {},
   "source": [
    "## JuMP and MOI"
   ]
  },
  {
   "cell_type": "markdown",
   "metadata": {},
   "source": [
    "Note: Need the following patch [implemented in MOI master](https://github.com/JuliaOpt/MathOptInterface.jl/pull/409), but not on release v0.4.1"
   ]
  },
  {
   "cell_type": "code",
   "execution_count": 32,
   "metadata": {
    "collapsed": true
   },
   "outputs": [],
   "source": [
    "MOI.canget(m::MOIU.CachingOptimizer, IdxT::Type{<:MOI.Index}, name::String) = MOI.canget(m.model_cache, IdxT, name)\n",
    "MOI.get(m::MOIU.CachingOptimizer, IdxT::Type{<:MOI.Index}, name::String) = MOI.get(m.model_cache, IdxT, name)"
   ]
  },
  {
   "cell_type": "code",
   "execution_count": 34,
   "metadata": {
    "collapsed": true
   },
   "outputs": [],
   "source": [
    "model = Model(with_optimizer(GLPK.GLPKOptimizerLP))\n",
    "@variable(model, x >= 0)\n",
    "@variable(model, y >= 0)\n",
    "@constraint(model, inequality, x + y <= 1)\n",
    "@objective(model, Max, x + y)"
   ]
  },
  {
   "cell_type": "code",
   "execution_count": 12,
   "metadata": {
    "collapsed": true
   },
   "outputs": [],
   "source": [
    "#@macroexpand @variable(model, x >= 0)"
   ]
  },
  {
   "cell_type": "markdown",
   "metadata": {},
   "source": [
    "`@variable(model, x >= 0)`:\n",
    "\n",
    "1. Create JuMP/MOI variable and set its attributes:\n",
    "```julia\n",
    "x = JuMP.addvariable(model,[...],\"x\")\n",
    "```\n",
    "2. Save JuMP variable in symbol-keyed dictionary:\n",
    "```julia\n",
    "JuMP.registervar(model, :x, x)\n",
    "```"
   ]
  },
  {
   "cell_type": "code",
   "execution_count": 22,
   "metadata": {
    "collapsed": true
   },
   "outputs": [],
   "source": [
    "#@macroexpand @constraint(model, inequality, x + y <= 1)"
   ]
  },
  {
   "cell_type": "markdown",
   "metadata": {},
   "source": [
    "`@constraint(model, inequality, x + y <= 1)`:\n",
    "\n",
    "1. Create JuMP/MOI constraint (function and set):\n",
    "```julia\n",
    "inequality = JuMP.addconstraint(model,[...],\"inequality\")\n",
    "``` \n",
    "2. Save JuMP constraint in symbol-keyed dictionary:\n",
    "```julia\n",
    "JuMP.registercon(model, :inequality, inequality)\n",
    "``` "
   ]
  },
  {
   "cell_type": "markdown",
   "metadata": {},
   "source": [
    "#### JuMP stores data only on MOI"
   ]
  },
  {
   "cell_type": "markdown",
   "metadata": {},
   "source": [
    "```julia\n",
    "function addconstraint(m::Model, c::AbstractConstraint, name::String=\"\")\n",
    "    f, s = moi_function_and_set(c)\n",
    "    [...]\n",
    "    cindex = MOI.addconstraint!(m.moibackend, f, s)::ConstraintIndex{F,S} \n",
    "    cref = ConstraintRef(m, cindex)::ConstraintRef{ConstraintIndex{F,S}}\n",
    "    if !isempty(name)\n",
    "        MOI.set!(m.moibackend, MOI.ConstraintName(), cindex,name)\n",
    "    end\n",
    "    return cref\n",
    "end\n",
    "```\n",
    "JuMP constraint:\n",
    "```julia\n",
    "struct ConstraintRef{C}\n",
    "    m::Model\n",
    "    index::C             # C = ConstraintIndex{F,S} for some F,S\n",
    "end\n",
    "```"
   ]
  },
  {
   "cell_type": "markdown",
   "metadata": {},
   "source": [
    "We can recover MOI constraints and variables by their \"name\":"
   ]
  },
  {
   "cell_type": "code",
   "execution_count": 35,
   "metadata": {},
   "outputs": [
    {
     "data": {
      "text/plain": [
       "true"
      ]
     },
     "execution_count": 35,
     "metadata": {},
     "output_type": "execute_result"
    }
   ],
   "source": [
    "MOI.get(model.moibackend, MOI.ConstraintIndex, \"inequality\")  == inequality.index"
   ]
  },
  {
   "cell_type": "code",
   "execution_count": 36,
   "metadata": {},
   "outputs": [
    {
     "data": {
      "text/plain": [
       "true"
      ]
     },
     "execution_count": 36,
     "metadata": {},
     "output_type": "execute_result"
    }
   ],
   "source": [
    "MOI.get(model.moibackend, MOI.VariableIndex, \"x\")  == x.index"
   ]
  },
  {
   "cell_type": "markdown",
   "metadata": {},
   "source": [
    "and get the name of a constraint or variable:"
   ]
  },
  {
   "cell_type": "code",
   "execution_count": 37,
   "metadata": {},
   "outputs": [
    {
     "data": {
      "text/plain": [
       "\"inequality\""
      ]
     },
     "execution_count": 37,
     "metadata": {},
     "output_type": "execute_result"
    }
   ],
   "source": [
    "MOI.get(model.moibackend, MOI.ConstraintName(),inequality.index)"
   ]
  },
  {
   "cell_type": "code",
   "execution_count": 38,
   "metadata": {},
   "outputs": [
    {
     "data": {
      "text/plain": [
       "\"x\""
      ]
     },
     "execution_count": 38,
     "metadata": {},
     "output_type": "execute_result"
    }
   ],
   "source": [
    "MOI.get(model.moibackend, MOI.VariableName(),x.index)"
   ]
  },
  {
   "cell_type": "markdown",
   "metadata": {},
   "source": [
    "Note: Simpler syntax to get name of JuMP variable will be available by [v0.19 release](https://github.com/JuliaOpt/JuMP.jl/issues/1184) "
   ]
  },
  {
   "cell_type": "markdown",
   "metadata": {},
   "source": [
    "#### JuMP does store dictionary to recover variables/constraints by symbol"
   ]
  },
  {
   "cell_type": "code",
   "execution_count": 39,
   "metadata": {},
   "outputs": [
    {
     "data": {
      "text/plain": [
       "true"
      ]
     },
     "execution_count": 39,
     "metadata": {},
     "output_type": "execute_result"
    }
   ],
   "source": [
    "model[:x] == x"
   ]
  },
  {
   "cell_type": "code",
   "execution_count": 40,
   "metadata": {},
   "outputs": [
    {
     "data": {
      "text/plain": [
       "true"
      ]
     },
     "execution_count": 40,
     "metadata": {},
     "output_type": "execute_result"
    }
   ],
   "source": [
    "model[:inequality] == inequality"
   ]
  },
  {
   "cell_type": "markdown",
   "metadata": {},
   "source": [
    "usefull when working with multiple models with same names:"
   ]
  },
  {
   "cell_type": "code",
   "execution_count": 41,
   "metadata": {
    "collapsed": true
   },
   "outputs": [],
   "source": [
    "model1 = Model(with_optimizer(GLPK.GLPKOptimizerLP))\n",
    "@variable(model1, x >= 0)\n",
    "@variable(model1, y >= 0)\n",
    "@constraint(model1, inequality, x + y <= 1)\n",
    "@objective(model1, Max, x + y)\n",
    "\n",
    "model2 = Model(with_optimizer(GLPK.GLPKOptimizerLP))\n",
    "@variable(model2, x >= 0)\n",
    "@variable(model2, y >= 0)\n",
    "@constraint(model2, inequality, 2x + y <= 1)\n",
    "@objective(model2, Max, x + y)"
   ]
  },
  {
   "cell_type": "markdown",
   "metadata": {},
   "source": [
    "`inequality` for `model1` was overwritten by `inequality` for `model2`: "
   ]
  },
  {
   "cell_type": "code",
   "execution_count": 42,
   "metadata": {},
   "outputs": [
    {
     "data": {
      "text/latex": [
       "inequality : $ 2 x + y \\leq 1.0 $"
      ],
      "text/plain": [
       "inequality : 2 x + y ≤ 1.0"
      ]
     },
     "execution_count": 42,
     "metadata": {},
     "output_type": "execute_result"
    }
   ],
   "source": [
    "inequality"
   ]
  },
  {
   "cell_type": "markdown",
   "metadata": {},
   "source": [
    "we can recover `inequality` for `model1` from `model1[...]`:"
   ]
  },
  {
   "cell_type": "code",
   "execution_count": 43,
   "metadata": {},
   "outputs": [
    {
     "data": {
      "text/latex": [
       "inequality : $ x + y \\leq 1.0 $"
      ],
      "text/plain": [
       "inequality : x + y ≤ 1.0"
      ]
     },
     "execution_count": 43,
     "metadata": {},
     "output_type": "execute_result"
    }
   ],
   "source": [
    "model1[:inequality]"
   ]
  },
  {
   "cell_type": "markdown",
   "metadata": {},
   "source": [
    "### A recap of the four types of variables/constraints in JuMP"
   ]
  },
  {
   "cell_type": "markdown",
   "metadata": {},
   "source": [
    "Julia variables v/s mathematical optimization variables?! "
   ]
  },
  {
   "cell_type": "code",
   "execution_count": 44,
   "metadata": {
    "collapsed": true
   },
   "outputs": [],
   "source": [
    "model = Model(with_optimizer(GLPK.GLPKOptimizerLP))\n",
    "@variable(model, x[1:3] >= 0, basename=\"Xvar\")\n",
    "@variable(model, y >= 0)\n",
    "@constraint(model, inequality, sum(x) + y <= 1)\n",
    "@objective(model, Max, sum(x) + y)"
   ]
  },
  {
   "cell_type": "markdown",
   "metadata": {},
   "source": [
    "MOI variable: a unique index within a model"
   ]
  },
  {
   "cell_type": "code",
   "execution_count": 45,
   "metadata": {},
   "outputs": [
    {
     "data": {
      "text/plain": [
       "MathOptInterface.VariableIndex(4)"
      ]
     },
     "execution_count": 45,
     "metadata": {},
     "output_type": "execute_result"
    }
   ],
   "source": [
    "y.index"
   ]
  },
  {
   "cell_type": "code",
   "execution_count": 46,
   "metadata": {},
   "outputs": [
    {
     "data": {
      "text/plain": [
       "MathOptInterface.VariableIndex(2)"
      ]
     },
     "execution_count": 46,
     "metadata": {},
     "output_type": "execute_result"
    }
   ],
   "source": [
    "x[2].index"
   ]
  },
  {
   "cell_type": "markdown",
   "metadata": {},
   "source": [
    "MOI variable name: a unique string associated to a MOI variable."
   ]
  },
  {
   "cell_type": "code",
   "execution_count": 47,
   "metadata": {},
   "outputs": [
    {
     "data": {
      "text/plain": [
       "\"y\""
      ]
     },
     "execution_count": 47,
     "metadata": {},
     "output_type": "execute_result"
    }
   ],
   "source": [
    "MOI.get(model.moibackend, MOI.VariableName(),y.index)"
   ]
  },
  {
   "cell_type": "code",
   "execution_count": 48,
   "metadata": {},
   "outputs": [
    {
     "data": {
      "text/plain": [
       "\"Xvar[2]\""
      ]
     },
     "execution_count": 48,
     "metadata": {},
     "output_type": "execute_result"
    }
   ],
   "source": [
    "MOI.get(model.moibackend, MOI.VariableName(),x[2].index)"
   ]
  },
  {
   "cell_type": "code",
   "execution_count": 49,
   "metadata": {},
   "outputs": [
    {
     "data": {
      "text/plain": [
       "MathOptInterface.VariableIndex(3)"
      ]
     },
     "execution_count": 49,
     "metadata": {},
     "output_type": "execute_result"
    }
   ],
   "source": [
    "MOI.set!(model.moibackend, MOI.VariableName(),x[3].index,\"lastXvar\")"
   ]
  },
  {
   "cell_type": "code",
   "execution_count": 50,
   "metadata": {},
   "outputs": [
    {
     "data": {
      "text/plain": [
       "3-element Array{JuMP.VariableRef,1}:\n",
       " Xvar[1] \n",
       " Xvar[2] \n",
       " lastXvar"
      ]
     },
     "execution_count": 50,
     "metadata": {},
     "output_type": "execute_result"
    }
   ],
   "source": [
    "x"
   ]
  },
  {
   "cell_type": "markdown",
   "metadata": {},
   "source": [
    "Single JuMP variable: Reference to a MOI variable in a model. A Julia variable of type `JuMP.VariableRef`"
   ]
  },
  {
   "cell_type": "code",
   "execution_count": 51,
   "metadata": {},
   "outputs": [
    {
     "data": {
      "text/plain": [
       "JuMP.VariableRef"
      ]
     },
     "execution_count": 51,
     "metadata": {},
     "output_type": "execute_result"
    }
   ],
   "source": [
    "typeof(y)"
   ]
  },
  {
   "cell_type": "code",
   "execution_count": 52,
   "metadata": {},
   "outputs": [
    {
     "data": {
      "text/plain": [
       "MathOptInterface.VariableIndex(4)"
      ]
     },
     "execution_count": 52,
     "metadata": {},
     "output_type": "execute_result"
    }
   ],
   "source": [
    "y.index"
   ]
  },
  {
   "cell_type": "code",
   "execution_count": 53,
   "metadata": {},
   "outputs": [
    {
     "data": {
      "text/plain": [
       "true"
      ]
     },
     "execution_count": 53,
     "metadata": {},
     "output_type": "execute_result"
    }
   ],
   "source": [
    "y.m == model"
   ]
  },
  {
   "cell_type": "markdown",
   "metadata": {},
   "source": [
    "Container of JuMP variables: well... a container of `JuMP.VariableRef` "
   ]
  },
  {
   "cell_type": "code",
   "execution_count": 54,
   "metadata": {},
   "outputs": [
    {
     "data": {
      "text/plain": [
       "Array{JuMP.VariableRef,1}"
      ]
     },
     "execution_count": 54,
     "metadata": {},
     "output_type": "execute_result"
    }
   ],
   "source": [
    "typeof(x)"
   ]
  },
  {
   "cell_type": "markdown",
   "metadata": {},
   "source": [
    "### Interesting Examples:"
   ]
  },
  {
   "cell_type": "code",
   "execution_count": 55,
   "metadata": {},
   "outputs": [
    {
     "data": {
      "text/plain": [
       "3-element Array{JuMP.VariableRef,1}:\n",
       " noname\n",
       " noname\n",
       " noname"
      ]
     },
     "execution_count": 55,
     "metadata": {},
     "output_type": "execute_result"
    }
   ],
   "source": [
    "model = Model(with_optimizer(GLPK.GLPKOptimizerLP))\n",
    "x = @variable(model, [1:3])"
   ]
  },
  {
   "cell_type": "code",
   "execution_count": 56,
   "metadata": {},
   "outputs": [
    {
     "data": {
      "text/plain": [
       "3-element Array{JuMP.VariableRef,1}:\n",
       " noname\n",
       " noname\n",
       " noname"
      ]
     },
     "execution_count": 56,
     "metadata": {},
     "output_type": "execute_result"
    }
   ],
   "source": [
    "x"
   ]
  },
  {
   "cell_type": "code",
   "execution_count": 58,
   "metadata": {},
   "outputs": [
    {
     "data": {
      "text/plain": [
       "3-element Array{JuMP.VariableRef,1}:\n",
       " 0.7458337863247182[1]\n",
       " 0.8751360655391893[2]\n",
       " 0.3736794369071459[3]"
      ]
     },
     "execution_count": 58,
     "metadata": {},
     "output_type": "execute_result"
    }
   ],
   "source": [
    "model = Model(with_optimizer(GLPK.GLPKOptimizerLP))\n",
    "@variable(model, [1:3], basename=string(rand()))"
   ]
  },
  {
   "cell_type": "code",
   "execution_count": 60,
   "metadata": {},
   "outputs": [
    {
     "data": {
      "text/latex": [
       "$$ z_{3} $$"
      ],
      "text/plain": [
       "z[3]"
      ]
     },
     "execution_count": 60,
     "metadata": {},
     "output_type": "execute_result"
    }
   ],
   "source": [
    "using DataStructures\n",
    "myvariables = Stack(JuMP.VariableRef)\n",
    "model = Model(with_optimizer(GLPK.GLPKOptimizerLP))\n",
    "push!(myvariables,@variable(model, y >= 0))\n",
    "push!.(myvariables,@variable(model, z[1:3] >= 0))\n",
    "pop!(myvariables)"
   ]
  },
  {
   "cell_type": "code",
   "execution_count": 61,
   "metadata": {},
   "outputs": [
    {
     "data": {
      "text/plain": [
       "DataStructures.Stack{JuMP.VariableRef}(Deque [JuMP.VariableRef[y, z[1], z[2]]])"
      ]
     },
     "execution_count": 61,
     "metadata": {},
     "output_type": "execute_result"
    },
    {
     "name": "stdout",
     "output_type": "stream",
     "text": [
      "myvariables = DataStructures.Stack{JuMP.VariableRef}(Deque [JuMP.VariableRef[y, z[1], z[2]]])\n"
     ]
    }
   ],
   "source": [
    "@show myvariables"
   ]
  },
  {
   "cell_type": "markdown",
   "metadata": {},
   "source": [
    "## JuMP Solver Modes "
   ]
  },
  {
   "cell_type": "code",
   "execution_count": 63,
   "metadata": {
    "collapsed": true
   },
   "outputs": [],
   "source": [
    "model = Model(with_optimizer(GLPK.GLPKOptimizerLP))\n",
    "@variable(model, x >= 0)\n",
    "@variable(model, y >= 0)\n",
    "@constraint(model, inequality, x + y <= 1)\n",
    "@objective(model, Max, x + y)"
   ]
  },
  {
   "cell_type": "markdown",
   "metadata": {},
   "source": [
    "JuMP has 3 solver modes:"
   ]
  },
  {
   "cell_type": "code",
   "execution_count": 64,
   "metadata": {},
   "outputs": [
    {
     "data": {
      "text/plain": [
       "Enum JuMP.ModelMode:\n",
       "Automatic = 0\n",
       "Manual = 1\n",
       "Direct = 2"
      ]
     },
     "execution_count": 64,
     "metadata": {},
     "output_type": "execute_result"
    }
   ],
   "source": [
    "JuMP.ModelMode"
   ]
  },
  {
   "cell_type": "markdown",
   "metadata": {},
   "source": [
    "Default mode is `Automatic`"
   ]
  },
  {
   "cell_type": "code",
   "execution_count": 65,
   "metadata": {},
   "outputs": [
    {
     "data": {
      "text/plain": [
       "true"
      ]
     },
     "execution_count": 65,
     "metadata": {},
     "output_type": "execute_result"
    }
   ],
   "source": [
    "JuMP.mode(model) == JuMP.Automatic"
   ]
  },
  {
   "cell_type": "code",
   "execution_count": 3,
   "metadata": {
    "collapsed": true
   },
   "outputs": [],
   "source": [
    "c = [1; 3; 5; 2] \n",
    "\n",
    "A= [\n",
    "     1 1 9 5;\n",
    "     3 5 0 8;\n",
    "     2 0 6 13\n",
    "    ]\n",
    "\n",
    "b = [7; 3; 5] \n",
    "\n",
    "m, n = size(A); # m = number of rows of A, n = number of columns of A"
   ]
  },
  {
   "cell_type": "markdown",
   "metadata": {},
   "source": [
    "### One Extreme: Automatic Mode = \"Almost\" Old JuMP"
   ]
  },
  {
   "cell_type": "markdown",
   "metadata": {},
   "source": [
    "Solver is a `CachingOptimizer` which keeps a cache of the model data (remember all data is stored in MOI) that can be incrementally modified in every possible way. If the \"true\" internal model/solver (e.g. `GLPK.GLPKOptimizerLP()`'s model below) does not support an incremental modification, the `CachingOptimizer` discards the internal model and restores the model from the cache after the modification (i.e. it re-builds the complete model).\n",
    "* Pros: No need to worry about what modifications are valid.\n",
    "* Cons: No information about efficiency of modifications (may be re-creating the whole model for each modification)\n",
    "\n",
    "**Note:** Automatic mode also provides automatic constraint transformations. See [Constraint Bridges](#Constraint-Bridges)"
   ]
  },
  {
   "cell_type": "code",
   "execution_count": 90,
   "metadata": {},
   "outputs": [
    {
     "name": "stdout",
     "output_type": "stream",
     "text": [
      "GLPK Simplex Optimizer, v4.52\n",
      "3 rows, 4 columns, 10 non-zeros\n",
      "Objective scale factor = 200\n",
      "      0: obj =   0.000000000e+00  infeas =  1.500e+01 (3)\n",
      "*     3: obj =   5.035196687e+00  infeas =  0.000e+00 (0)\n",
      "*     4: obj =   4.923076923e+00  infeas =  0.000e+00 (0)\n",
      "OPTIMAL LP SOLUTION FOUND\n",
      "  0.000517 seconds (915 allocations: 56.406 KiB)\n",
      "JuMP.hasresultvalues(model) = true\n",
      "JuMP.terminationstatus(model) == MOI.Success = true\n",
      "JuMP.primalstatus(model) == MOI.FeasiblePoint = true\n",
      "Objective value: 4.923076923076923\n",
      "Optimal solution is x = \n",
      "[0.423077, 0.346154, 0.692308, 0.0]\n"
     ]
    }
   ],
   "source": [
    "model = JuMP.Model(with_optimizer(GLPK.GLPKOptimizerLP, msg_lev = 4))\n",
    "\n",
    "@variable(model, x[1:n] >= 0) \n",
    "@constraint(model, [i=1:m], sum(A[i,j]*x[j] for j in 1:n) == b[i])\n",
    "@objective(model, Min, sum(c[j]*x[j] for j in 1:n)) \n",
    "\n",
    "#SOLVE IT\n",
    "#--------\n",
    "\n",
    "# finally optimize the model\n",
    "@time begin\n",
    "JuMP.optimize(model) # solves the model\n",
    "end\n",
    "\n",
    "# TEST SOLVER STATUSES and DISPLAY THE RESULTS\n",
    "#---------------------------------------------\n",
    "@show JuMP.hasresultvalues(model)\n",
    "@show JuMP.terminationstatus(model) == MOI.Success\n",
    "@show JuMP.primalstatus(model) == MOI.FeasiblePoint\n",
    "\n",
    "println(\"Objective value: \", JuMP.objectivevalue(model))\n",
    "println(\"Optimal solution is x = \\n\", JuMP.resultvalue.(x))"
   ]
  },
  {
   "cell_type": "markdown",
   "metadata": {},
   "source": [
    "**Note:** \n",
    "```julia\n",
    "with_optimizer(GLPK.GLPKOptimizerLP, msg_lev = 4)\n",
    "```\n",
    "builds a factory that can create instances of \n",
    "```julia\n",
    "GLPK.GLPKOptimizerLP(msg_lev = 4)\n",
    "```\n",
    "to re-build the internal model (or copy it)."
   ]
  },
  {
   "cell_type": "markdown",
   "metadata": {},
   "source": [
    "### The Other Extreme: Direct Mode"
   ]
  },
  {
   "cell_type": "markdown",
   "metadata": {},
   "source": [
    "Direct connection to a solver. All data is stored with solver, MOI does not save or cache anything.\n",
    "* Pros: Access to complete solver interfase (e.g. callbacks). Allowed modifications are as efficient as possible for the solver. \n",
    "* Cons: Cannot apply incremental modifications not supported by the solver. Cannot copy the mode. Cannot use [Constraint Bridges](#Constraint-Bridges)"
   ]
  },
  {
   "cell_type": "code",
   "execution_count": 96,
   "metadata": {},
   "outputs": [
    {
     "name": "stdout",
     "output_type": "stream",
     "text": [
      "GLPK Simplex Optimizer, v4.52\n",
      "3 rows, 4 columns, 10 non-zeros\n",
      "Objective scale factor = 200\n",
      "      0: obj =   0.000000000e+00  infeas =  1.500e+01 (3)\n",
      "*     3: obj =   5.035196687e+00  infeas =  0.000e+00 (0)\n",
      "*     4: obj =   4.923076923e+00  infeas =  0.000e+00 (0)\n",
      "OPTIMAL LP SOLUTION FOUND\n",
      "  0.000099 seconds (39 allocations: 1.016 KiB)\n",
      "JuMP.hasresultvalues(model) = true\n",
      "JuMP.terminationstatus(model) == MOI.Success = true\n",
      "JuMP.primalstatus(model) == MOI.FeasiblePoint = true\n",
      "Objective value: 4.923076923076923\n",
      "Optimal solution is x = \n",
      "[0.423077, 0.346154, 0.692308, 0.0]\n"
     ]
    }
   ],
   "source": [
    "model = JuMP.direct_model(GLPK.GLPKOptimizerLP(msg_lev = 4))\n",
    "@variable(model, x[1:n] >= 0) # Models x >=0\n",
    "@constraint(model, [i=1:m], sum(A[i,j]*x[j] for j in 1:n) == b[i])\n",
    "@objective(model, Min, sum(c[j]*x[j] for j in 1:n)) \n",
    "\n",
    "#SOLVE IT\n",
    "#--------\n",
    "\n",
    "# finally optimize the model\n",
    "@time begin\n",
    "JuMP.optimize(model) # solves the model\n",
    "end\n",
    "\n",
    "# TEST SOLVER STATUSES and DISPLAY THE RESULTS\n",
    "#---------------------------------------------\n",
    "@show JuMP.hasresultvalues(model)\n",
    "@show JuMP.terminationstatus(model) == MOI.Success\n",
    "@show JuMP.primalstatus(model) == MOI.FeasiblePoint\n",
    "\n",
    "println(\"Objective value: \", JuMP.objectivevalue(model))\n",
    "println(\"Optimal solution is x = \\n\", JuMP.resultvalue.(x))"
   ]
  },
  {
   "cell_type": "code",
   "execution_count": 97,
   "metadata": {
    "collapsed": true
   },
   "outputs": [],
   "source": [
    "status"
   ]
  },
  {
   "cell_type": "markdown",
   "metadata": {},
   "source": [
    "### Intermediate Mode: Manual Mode = Direct Control of `CachingOptimizer`"
   ]
  },
  {
   "cell_type": "code",
   "execution_count": 24,
   "metadata": {
    "collapsed": true
   },
   "outputs": [],
   "source": [
    "model = JuMP.Model(with_optimizer(GLPK.GLPKOptimizerLP, msg_lev = 4),caching_mode = MOIU.Manual)\n",
    "\n",
    "@variable(model, x[1:n] >= 0) \n",
    "@constraint(model, [i=1:m], sum(A[i,j]*x[j] for j in 1:n) == b[i])\n",
    "@objective(model, Min, sum(c[j]*x[j] for j in 1:n)) "
   ]
  },
  {
   "cell_type": "code",
   "execution_count": 25,
   "metadata": {},
   "outputs": [
    {
     "ename": "LoadError",
     "evalue": "\u001b[91mAssertionError: m.state == AttachedOptimizer\u001b[39m",
     "output_type": "error",
     "traceback": [
      "\u001b[91mAssertionError: m.state == AttachedOptimizer\u001b[39m",
      "",
      "Stacktrace:",
      " [1] \u001b[1moptimize!\u001b[22m\u001b[22m\u001b[1m(\u001b[22m\u001b[22m::MathOptInterface.Utilities.CachingOptimizer{MathOptInterface.AbstractOptimizer,MathOptInterface.Utilities.UniversalFallback{JuMP.JuMPMOIModel{Float64}}}\u001b[1m)\u001b[22m\u001b[22m at \u001b[1m/Users/jvielma/.julia/v0.6/MathOptInterface/src/Utilities/cachingoptimizer.jl:165\u001b[22m\u001b[22m",
      " [2] \u001b[1moptimize!\u001b[22m\u001b[22m\u001b[1m(\u001b[22m\u001b[22m::MathOptInterface.Bridges.LazyBridgeOptimizer{MathOptInterface.Utilities.CachingOptimizer{MathOptInterface.AbstractOptimizer,MathOptInterface.Utilities.UniversalFallback{JuMP.JuMPMOIModel{Float64}}},MathOptInterface.Bridges.AllBridgedConstraints{Float64}}\u001b[1m)\u001b[22m\u001b[22m at \u001b[1m/Users/jvielma/.julia/v0.6/MathOptInterface/src/Bridges/bridgeoptimizer.jl:45\u001b[22m\u001b[22m",
      " [3] \u001b[1m#optimize#98\u001b[22m\u001b[22m\u001b[1m(\u001b[22m\u001b[22m::Bool, ::Function, ::JuMP.Model, ::Void\u001b[1m)\u001b[22m\u001b[22m at \u001b[1m/Users/jvielma/.julia/v0.6/JuMP/src/optimizerinterface.jl:69\u001b[22m\u001b[22m",
      " [4] \u001b[1moptimize\u001b[22m\u001b[22m\u001b[1m(\u001b[22m\u001b[22m::JuMP.Model\u001b[1m)\u001b[22m\u001b[22m at \u001b[1m/Users/jvielma/.julia/v0.6/JuMP/src/optimizerinterface.jl:46\u001b[22m\u001b[22m"
     ]
    }
   ],
   "source": [
    "JuMP.optimize(model)"
   ]
  },
  {
   "cell_type": "markdown",
   "metadata": {},
   "source": [
    "Need to control `CachingOptimizer` directly:"
   ]
  },
  {
   "cell_type": "code",
   "execution_count": 26,
   "metadata": {},
   "outputs": [
    {
     "data": {
      "text/plain": [
       "MathOptInterface.Utilities.CachingOptimizer{MathOptInterface.AbstractOptimizer,MathOptInterface.Utilities.UniversalFallback{JuMP.JuMPMOIModel{Float64}}}"
      ]
     },
     "execution_count": 26,
     "metadata": {},
     "output_type": "execute_result"
    }
   ],
   "source": [
    "copt = JuMP.caching_optimizer(model)\n",
    "typeof(copt)"
   ]
  },
  {
   "cell_type": "code",
   "execution_count": 27,
   "metadata": {},
   "outputs": [
    {
     "data": {
      "text/plain": [
       "Enum MathOptInterface.Utilities.CachingOptimizerState:\n",
       "NoOptimizer = 0\n",
       "EmptyOptimizer = 1\n",
       "AttachedOptimizer = 2"
      ]
     },
     "execution_count": 27,
     "metadata": {},
     "output_type": "execute_result"
    }
   ],
   "source": [
    "MOIU.CachingOptimizerState"
   ]
  },
  {
   "cell_type": "code",
   "execution_count": 28,
   "metadata": {},
   "outputs": [
    {
     "data": {
      "text/plain": [
       "true"
      ]
     },
     "execution_count": 28,
     "metadata": {},
     "output_type": "execute_result"
    }
   ],
   "source": [
    "MOIU.state(copt) == MOIU.EmptyOptimizer"
   ]
  },
  {
   "cell_type": "markdown",
   "metadata": {},
   "source": [
    "`EmptyOptimizer` has not loaded the model. We can load it with `attachoptimizer!` and then we can solve:"
   ]
  },
  {
   "cell_type": "code",
   "execution_count": 29,
   "metadata": {
    "collapsed": true
   },
   "outputs": [],
   "source": [
    "MOIU.attachoptimizer!(copt);"
   ]
  },
  {
   "cell_type": "code",
   "execution_count": 30,
   "metadata": {},
   "outputs": [
    {
     "data": {
      "text/plain": [
       "true"
      ]
     },
     "execution_count": 30,
     "metadata": {},
     "output_type": "execute_result"
    }
   ],
   "source": [
    "MOIU.state(copt) == MOIU.AttachedOptimizer"
   ]
  },
  {
   "cell_type": "code",
   "execution_count": 31,
   "metadata": {},
   "outputs": [
    {
     "name": "stdout",
     "output_type": "stream",
     "text": [
      "GLPK Simplex Optimizer, v4.52\n",
      "3 rows, 4 columns, 10 non-zeros\n",
      "Objective scale factor = 200\n",
      "      0: obj =   0.000000000e+00  infeas =  1.500e+01 (3)\n",
      "*     3: obj =   5.035196687e+00  infeas =  0.000e+00 (0)\n",
      "*     4: obj =   4.923076923e+00  infeas =  0.000e+00 (0)\n",
      "OPTIMAL LP SOLUTION FOUND\n"
     ]
    }
   ],
   "source": [
    "JuMP.optimize(model)"
   ]
  },
  {
   "cell_type": "markdown",
   "metadata": {},
   "source": [
    "Unsuported incremental modifications through an error for `AttachedOptimizer`, but not for `EmptyOptimizer`.\n",
    "We can return to `EmptyOptimizer` with `resetoptimizer`:"
   ]
  },
  {
   "cell_type": "code",
   "execution_count": 32,
   "metadata": {},
   "outputs": [
    {
     "data": {
      "text/plain": [
       "true"
      ]
     },
     "execution_count": 32,
     "metadata": {},
     "output_type": "execute_result"
    }
   ],
   "source": [
    "MOIU.resetoptimizer!(copt);\n",
    "MOIU.state(copt) == MOIU.EmptyOptimizer"
   ]
  },
  {
   "cell_type": "markdown",
   "metadata": {},
   "source": [
    "### Optional Cbc example"
   ]
  },
  {
   "cell_type": "code",
   "execution_count": 36,
   "metadata": {
    "collapsed": true
   },
   "outputs": [],
   "source": [
    "using Cbc\n",
    "model = JuMP.Model(with_optimizer(Cbc.CbcOptimizer),caching_mode = MOIU.Manual)\n",
    "\n",
    "@variable(model, x[1:n] >= 0) \n",
    "@constraint(model, [i=1:m], sum(A[i,j]*x[j] for j in 1:n) == b[i])\n",
    "@objective(model, Min, sum(c[j]*x[j] for j in 1:n)) "
   ]
  },
  {
   "cell_type": "code",
   "execution_count": 37,
   "metadata": {},
   "outputs": [
    {
     "data": {
      "text/plain": [
       "true"
      ]
     },
     "execution_count": 37,
     "metadata": {},
     "output_type": "execute_result"
    },
    {
     "name": "stdout",
     "output_type": "stream",
     "text": [
      "JuMP.terminationstatus(model) == MOI.Success = true\n",
      "Welcome to the CBC MILP Solver \n",
      "Version: 2.9.7 \n",
      "Build Date: Oct 17 2016 \n",
      "\n",
      "command line - Cbc_C_Interface -solve -quit (default strategy 1)\n",
      "Presolve 3 (0) rows, 4 (0) columns and 10 (0) elements\n",
      "0  Obj 0 Primal inf 4.0685937 (3)\n",
      "4  Obj 4.9230769\n",
      "Optimal - objective value 4.9230769\n",
      "Optimal objective 4.923076923 - 4 iterations time 0.002\n",
      "Total time (CPU seconds):       0.00   (Wallclock seconds):       0.00\n",
      "\n"
     ]
    }
   ],
   "source": [
    "copt = JuMP.caching_optimizer(model)\n",
    "MOIU.attachoptimizer!(copt);\n",
    "JuMP.optimize(model)\n",
    "@show JuMP.terminationstatus(model) == MOI.Success"
   ]
  },
  {
   "cell_type": "code",
   "execution_count": 38,
   "metadata": {},
   "outputs": [
    {
     "ename": "LoadError",
     "evalue": "\u001b[91mAssertionError: MOI.canaddconstraint(m, typeof(func), typeof(set))\u001b[39m",
     "output_type": "error",
     "traceback": [
      "\u001b[91mAssertionError: MOI.canaddconstraint(m, typeof(func), typeof(set))\u001b[39m",
      "",
      "Stacktrace:",
      " [1] \u001b[1maddconstraint!\u001b[22m\u001b[22m\u001b[1m(\u001b[22m\u001b[22m::MathOptInterface.Utilities.CachingOptimizer{MathOptInterface.AbstractOptimizer,MathOptInterface.Utilities.UniversalFallback{JuMP.JuMPMOIModel{Float64}}}, ::MathOptInterface.ScalarAffineFunction{Float64}, ::MathOptInterface.EqualTo{Float64}\u001b[1m)\u001b[22m\u001b[22m at \u001b[1m/Users/jvielma/.julia/v0.6/MathOptInterface/src/Utilities/cachingoptimizer.jl:226\u001b[22m\u001b[22m",
      " [2] \u001b[1maddconstraint!\u001b[22m\u001b[22m\u001b[1m(\u001b[22m\u001b[22m::MathOptInterface.Bridges.LazyBridgeOptimizer{MathOptInterface.Utilities.CachingOptimizer{MathOptInterface.AbstractOptimizer,MathOptInterface.Utilities.UniversalFallback{JuMP.JuMPMOIModel{Float64}}},MathOptInterface.Bridges.AllBridgedConstraints{Float64}}, ::MathOptInterface.ScalarAffineFunction{Float64}, ::MathOptInterface.EqualTo{Float64}\u001b[1m)\u001b[22m\u001b[22m at \u001b[1m/Users/jvielma/.julia/v0.6/MathOptInterface/src/Bridges/bridgeoptimizer.jl:209\u001b[22m\u001b[22m",
      " [3] \u001b[1maddconstraint\u001b[22m\u001b[22m\u001b[1m(\u001b[22m\u001b[22m::JuMP.Model, ::JuMP.AffExprConstraint{JuMP.VariableRef,MathOptInterface.EqualTo{Float64}}, ::String\u001b[1m)\u001b[22m\u001b[22m at \u001b[1m/Users/jvielma/.julia/v0.6/JuMP/src/JuMP.jl:415\u001b[22m\u001b[22m"
     ]
    }
   ],
   "source": [
    "@constraint(model, x[1]==1)"
   ]
  },
  {
   "cell_type": "code",
   "execution_count": 39,
   "metadata": {},
   "outputs": [
    {
     "name": "stdout",
     "output_type": "stream",
     "text": [
      "Welcome to the CBC MILP Solver \n",
      "Version: 2.9.7 \n",
      "Build Date: Oct 17 2016 \n",
      "\n",
      "command line - Cbc_C_Interface -solve -quit (default strategy 1)\n",
      "Presolve determined that the problem was infeasible with tolerance of 1e-08\n",
      "Analysis indicates model infeasible or unbounded\n",
      "0  Obj 0 Primal inf 4.6459439 (4)\n",
      "4  Obj 8 Primal inf 1.2936812 (1)\n",
      "4  Obj 8 Primal inf 1.2936812 (1)\n",
      "Primal infeasible - objective value 8\n",
      "PrimalInfeasible objective 8 - 4 iterations time 0.002\n",
      "\n",
      "Result - Linear relaxation infeasible\n",
      "\n",
      "Enumerated nodes:           0\n",
      "Total iterations:           0\n",
      "Time (CPU seconds):         0.00\n",
      "Time (Wallclock Seconds):   0.00\n",
      "\n",
      "Total time (CPU seconds):       0.00   (Wallclock seconds):       0.00\n",
      "\n"
     ]
    }
   ],
   "source": [
    "MOIU.resetoptimizer!(copt);\n",
    "@constraint(model, x[1]==1)\n",
    "MOIU.attachoptimizer!(copt);\n",
    "JuMP.optimize(model)"
   ]
  },
  {
   "cell_type": "markdown",
   "metadata": {
    "collapsed": true
   },
   "source": [
    "## Constraint Bridges"
   ]
  },
  {
   "cell_type": "markdown",
   "metadata": {},
   "source": [
    "There are multiple ways to write a constraint."
   ]
  },
  {
   "cell_type": "markdown",
   "metadata": {},
   "source": [
    "### Example 1:"
   ]
  },
  {
   "cell_type": "code",
   "execution_count": 62,
   "metadata": {},
   "outputs": [
    {
     "data": {
      "text/plain": [
       "10-element Array{JuMP.VariableRef,1}:\n",
       " x[1] \n",
       " x[2] \n",
       " x[3] \n",
       " x[4] \n",
       " x[5] \n",
       " x[6] \n",
       " x[7] \n",
       " x[8] \n",
       " x[9] \n",
       " x[10]"
      ]
     },
     "execution_count": 62,
     "metadata": {},
     "output_type": "execute_result"
    }
   ],
   "source": [
    "model = JuMP.Model()\n",
    "@variable(model,x[1:10])"
   ]
  },
  {
   "cell_type": "markdown",
   "metadata": {},
   "source": [
    "Two-sided linear constraint as one `ScalarAffineFunction`-in-`Interval`:"
   ]
  },
  {
   "cell_type": "code",
   "execution_count": 48,
   "metadata": {},
   "outputs": [
    {
     "data": {
      "text/latex": [
       "interval_inequality : $ x_{1} + x_{2} + x_{3} + x_{4} + x_{5} + x_{6} + x_{7} + x_{8} + x_{9} + x_{10} \\in \\[-2.0, 1.0\\] $"
      ],
      "text/plain": [
       "interval_inequality : x[1] + x[2] + x[3] + x[4] + x[5] + x[6] + x[7] + x[8] + x[9] + x[10] ∈ [-2.0, 1.0]"
      ]
     },
     "execution_count": 48,
     "metadata": {},
     "output_type": "execute_result"
    }
   ],
   "source": [
    "@constraint(model, interval_inequality, -2 <= sum(x) <= 1)"
   ]
  },
  {
   "cell_type": "code",
   "execution_count": 49,
   "metadata": {},
   "outputs": [
    {
     "data": {
      "text/plain": [
       "MathOptInterface.ConstraintIndex{MathOptInterface.ScalarAffineFunction{Float64},MathOptInterface.Interval{Float64}}(2)"
      ]
     },
     "execution_count": 49,
     "metadata": {},
     "output_type": "execute_result"
    }
   ],
   "source": [
    "interval_inequality.index"
   ]
  },
  {
   "cell_type": "markdown",
   "metadata": {},
   "source": [
    "Two-sided linear constraint as two `ScalarAffineFunction`-in-`LessThan`:"
   ]
  },
  {
   "cell_type": "code",
   "execution_count": 63,
   "metadata": {},
   "outputs": [
    {
     "data": {
      "text/latex": [
       "lower_bound : $ -x_{1} - x_{2} - x_{3} - x_{4} - x_{5} - x_{6} - x_{7} - x_{8} - x_{9} - x_{10} \\leq 2.0 $"
      ],
      "text/plain": [
       "lower_bound : -x[1] - x[2] - x[3] - x[4] - x[5] - x[6] - x[7] - x[8] - x[9] - x[10] ≤ 2.0"
      ]
     },
     "execution_count": 63,
     "metadata": {},
     "output_type": "execute_result"
    }
   ],
   "source": [
    "@constraint(model, lower_bound, -sum(x) <= 2)"
   ]
  },
  {
   "cell_type": "code",
   "execution_count": 64,
   "metadata": {},
   "outputs": [
    {
     "data": {
      "text/plain": [
       "MathOptInterface.ConstraintIndex{MathOptInterface.ScalarAffineFunction{Float64},MathOptInterface.LessThan{Float64}}(1)"
      ]
     },
     "execution_count": 64,
     "metadata": {},
     "output_type": "execute_result"
    }
   ],
   "source": [
    "lower_bound.index"
   ]
  },
  {
   "cell_type": "code",
   "execution_count": 57,
   "metadata": {},
   "outputs": [
    {
     "data": {
      "text/latex": [
       "upper_bound : $ x_{1} + x_{2} + x_{3} + x_{4} + x_{5} + x_{6} + x_{7} + x_{8} + x_{9} + x_{10} \\leq 1.0 $"
      ],
      "text/plain": [
       "upper_bound : x[1] + x[2] + x[3] + x[4] + x[5] + x[6] + x[7] + x[8] + x[9] + x[10] ≤ 1.0"
      ]
     },
     "execution_count": 57,
     "metadata": {},
     "output_type": "execute_result"
    }
   ],
   "source": [
    "@constraint(model, upper_bound,       sum(x) <= 1)"
   ]
  },
  {
   "cell_type": "code",
   "execution_count": 58,
   "metadata": {},
   "outputs": [
    {
     "data": {
      "text/plain": [
       "MathOptInterface.ConstraintIndex{MathOptInterface.ScalarAffineFunction{Float64},MathOptInterface.LessThan{Float64}}(3)"
      ]
     },
     "execution_count": 58,
     "metadata": {},
     "output_type": "execute_result"
    }
   ],
   "source": [
    "upper_bound.index"
   ]
  },
  {
   "cell_type": "markdown",
   "metadata": {},
   "source": [
    "### Example 2:"
   ]
  },
  {
   "cell_type": "code",
   "execution_count": 67,
   "metadata": {},
   "outputs": [
    {
     "data": {
      "text/latex": [
       "$$ t $$"
      ],
      "text/plain": [
       "t"
      ]
     },
     "execution_count": 67,
     "metadata": {},
     "output_type": "execute_result"
    }
   ],
   "source": [
    "model = JuMP.Model()\n",
    "@variable(model,x)\n",
    "@variable(model,y)\n",
    "@variable(model,t)"
   ]
  },
  {
   "cell_type": "markdown",
   "metadata": {},
   "source": [
    "Quadratic inequality as `ScalarQuadraticFunction`-in-`LessThan`:"
   ]
  },
  {
   "cell_type": "code",
   "execution_count": 70,
   "metadata": {},
   "outputs": [
    {
     "data": {
      "text/latex": [
       "quadratic : $ x^2 + y^2 - t \\leq 0.0 $"
      ],
      "text/plain": [
       "quadratic : x² + y² - t ≤ 0.0"
      ]
     },
     "execution_count": 70,
     "metadata": {},
     "output_type": "execute_result"
    }
   ],
   "source": [
    "@constraint(model,quadratic, x^2 + y^2 <= t)"
   ]
  },
  {
   "cell_type": "code",
   "execution_count": 71,
   "metadata": {},
   "outputs": [
    {
     "data": {
      "text/plain": [
       "MathOptInterface.ConstraintIndex{MathOptInterface.ScalarQuadraticFunction{Float64},MathOptInterface.LessThan{Float64}}(3)"
      ]
     },
     "execution_count": 71,
     "metadata": {},
     "output_type": "execute_result"
    }
   ],
   "source": [
    "quadratic.index"
   ]
  },
  {
   "cell_type": "markdown",
   "metadata": {},
   "source": [
    "Quadratic inequality as `VectorAffineFunction`-in-`SecondOrderCone`:"
   ]
  },
  {
   "cell_type": "code",
   "execution_count": 72,
   "metadata": {},
   "outputs": [
    {
     "data": {
      "text/latex": [
       "conic : $ [0.5 t + 0.5, -0.5 t + 0.5, x, y] \\in MathOptInterface.SecondOrderCone(4) $"
      ],
      "text/plain": [
       "conic : [0.5 t + 0.5, -0.5 t + 0.5, x, y] ∈ MathOptInterface.SecondOrderCone(4)"
      ]
     },
     "execution_count": 72,
     "metadata": {},
     "output_type": "execute_result"
    }
   ],
   "source": [
    "@constraint(model, conic, [(1+t)/2; (1-t)/2; x; y] in SecondOrderCone())"
   ]
  },
  {
   "cell_type": "code",
   "execution_count": 73,
   "metadata": {},
   "outputs": [
    {
     "data": {
      "text/plain": [
       "MathOptInterface.ConstraintIndex{MathOptInterface.VectorAffineFunction{Float64},MathOptInterface.SecondOrderCone}(4)"
      ]
     },
     "execution_count": 73,
     "metadata": {},
     "output_type": "execute_result"
    }
   ],
   "source": [
    "conic.index"
   ]
  },
  {
   "cell_type": "markdown",
   "metadata": {},
   "source": [
    "[Constraint Bridges](http://www.juliaopt.org/MathOptInterface.jl/stable/apimanual.html#Constraint-bridges-1) provide automatic transformation rules."
   ]
  },
  {
   "cell_type": "markdown",
   "metadata": {},
   "source": [
    "For instance, [Automatic Mode](#One-Extreme:-Automatic-Mode-=-\"Almost\"-Old-JuMP) actually adds two intermadiate layers: \n",
    "1. `CachingOptimizer` for incremental modifications, and\n",
    "2. `LazyBridgeOptimizer <: AbstractBridgeOptimizer` for default automatic transformations\n",
    "\n",
    "`LazyBridgeOptimizer` can be disabled with the `bridge_constraints = false` keyword argument."
   ]
  },
  {
   "cell_type": "markdown",
   "metadata": {},
   "source": [
    "### Example for `bridge_constraints`"
   ]
  },
  {
   "cell_type": "code",
   "execution_count": 78,
   "metadata": {},
   "outputs": [
    {
     "ename": "LoadError",
     "evalue": "\u001b[91mConstraints of type MathOptInterface.ScalarQuadraticFunction{Float64}-in-MathOptInterface.LessThan{Float64} are not supported by the solver, try using `bridge_constraints=true` in the `JuMP.Model` constructor if you believe the constraint can be reformulated to constraints supported by the solver.\u001b[39m",
     "output_type": "error",
     "traceback": [
      "\u001b[91mConstraints of type MathOptInterface.ScalarQuadraticFunction{Float64}-in-MathOptInterface.LessThan{Float64} are not supported by the solver, try using `bridge_constraints=true` in the `JuMP.Model` constructor if you believe the constraint can be reformulated to constraints supported by the solver.\u001b[39m",
      "",
      "Stacktrace:",
      " [1] \u001b[1maddconstraint\u001b[22m\u001b[22m\u001b[1m(\u001b[22m\u001b[22m::JuMP.Model, ::JuMP.QuadExprConstraint{JuMP.VariableRef,MathOptInterface.LessThan{Float64}}, ::String\u001b[1m)\u001b[22m\u001b[22m at \u001b[1m/Users/jvielma/.julia/v0.6/JuMP/src/JuMP.jl:413\u001b[22m\u001b[22m"
     ]
    }
   ],
   "source": [
    "using ECOS\n",
    "model = JuMP.Model(with_optimizer(ECOS.ECOSOptimizer), bridge_constraints = false)\n",
    "@variable(model,x)\n",
    "@variable(model,y)\n",
    "@variable(model,t)\n",
    "@constraint(model,quadratic, x^2 + y^2 <= t)"
   ]
  },
  {
   "cell_type": "code",
   "execution_count": 80,
   "metadata": {},
   "outputs": [
    {
     "ename": "LoadError",
     "evalue": "\u001b[91mConstraints of type MathOptInterface.ScalarQuadraticFunction{Float64}-in-MathOptInterface.LessThan{Float64} are not supported by the solver and there are no bridges that can reformulate it into supported constraints.\u001b[39m",
     "output_type": "error",
     "traceback": [
      "\u001b[91mConstraints of type MathOptInterface.ScalarQuadraticFunction{Float64}-in-MathOptInterface.LessThan{Float64} are not supported by the solver and there are no bridges that can reformulate it into supported constraints.\u001b[39m",
      "",
      "Stacktrace:",
      " [1] \u001b[1maddconstraint\u001b[22m\u001b[22m\u001b[1m(\u001b[22m\u001b[22m::JuMP.Model, ::JuMP.QuadExprConstraint{JuMP.VariableRef,MathOptInterface.LessThan{Float64}}, ::String\u001b[1m)\u001b[22m\u001b[22m at \u001b[1m/Users/jvielma/.julia/v0.6/JuMP/src/JuMP.jl:413\u001b[22m\u001b[22m"
     ]
    }
   ],
   "source": [
    "model = JuMP.Model(with_optimizer(ECOS.ECOSOptimizer)) #, bridge_constraints = true)\n",
    "@variable(model,x)\n",
    "@variable(model,y)\n",
    "@variable(model,t)\n",
    "@constraint(model,quadratic, x^2 + y^2 <= t)"
   ]
  },
  {
   "cell_type": "markdown",
   "metadata": {},
   "source": [
    "Missing bridges https://github.com/JuliaOpt/MathOptInterface.jl/issues/423\n",
    "\n",
    "unsupported constraints https://github.com/JuliaOpt/JuMP.jl/pull/1386"
   ]
  },
  {
   "cell_type": "code",
   "execution_count": 71,
   "metadata": {},
   "outputs": [
    {
     "ename": "LoadError",
     "evalue": "\u001b[91mUndefVarError: @constraintref not defined\u001b[39m",
     "output_type": "error",
     "traceback": [
      "\u001b[91mUndefVarError: @constraintref not defined\u001b[39m",
      ""
     ]
    }
   ],
   "source": [
    "@constraintref [1:3]"
   ]
  },
  {
   "cell_type": "code",
   "execution_count": 72,
   "metadata": {},
   "outputs": [
    {
     "ename": "LoadError",
     "evalue": "\u001b[91mUndefVarError: @constraintref not defined\u001b[39m",
     "output_type": "error",
     "traceback": [
      "\u001b[91mUndefVarError: @constraintref not defined\u001b[39m",
      ""
     ]
    }
   ],
   "source": [
    "@constraintref constraintName[1:3]"
   ]
  },
  {
   "cell_type": "code",
   "execution_count": null,
   "metadata": {
    "collapsed": true
   },
   "outputs": [],
   "source": []
  }
 ],
 "metadata": {
  "kernelspec": {
   "display_name": "Julia 0.6.2",
   "language": "julia",
   "name": "julia-0.6"
  },
  "language_info": {
   "file_extension": ".jl",
   "mimetype": "application/julia",
   "name": "julia",
   "version": "0.6.2"
  }
 },
 "nbformat": 4,
 "nbformat_minor": 2
}

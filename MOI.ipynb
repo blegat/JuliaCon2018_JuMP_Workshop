{
 "cells": [
  {
   "cell_type": "markdown",
   "metadata": {},
   "source": [
    "# The JuMP ecosystem for mathematical optimization: MOI\n",
    "\n",
    "This notebook is part of a workshop at [JuliaCon 2018](http://juliacon.org/2018/) and is based on materials and notebooks from various sources including the [JuliaOpt notebooks](https://github.com/JuliaOpt/juliaopt-notebooks), the [2018 ISCO Spring School](https://github.com/joehuchette/ISCO-spring-school) and the [second annual JuMP-dev workshop](http://www.juliaopt.org/meetings/bordeaux2018/).\n",
    "\n",
    "## Disclaimer\n",
    "This notebook is only working under the versions:\n",
    "\n",
    "- JuMP 0.19 (unreleased, but currently in master)\n",
    "\n",
    "- MathOptInterface 0.4.1\n",
    "\n",
    "- GLPK 0.6.0"
   ]
  },
  {
   "cell_type": "code",
   "execution_count": 11,
   "metadata": {},
   "outputs": [
    {
     "ename": "LoadError",
     "evalue": "\u001b[91mArgumentError: Module MathOptInterfaceGLPK not found in current path.\nRun `Pkg.add(\"MathOptInterfaceGLPK\")` to install the MathOptInterfaceGLPK package.\u001b[39m",
     "output_type": "error",
     "traceback": [
      "\u001b[91mArgumentError: Module MathOptInterfaceGLPK not found in current path.\nRun `Pkg.add(\"MathOptInterfaceGLPK\")` to install the MathOptInterfaceGLPK package.\u001b[39m",
      "",
      "Stacktrace:",
      " [1] \u001b[1m_require\u001b[22m\u001b[22m\u001b[1m(\u001b[22m\u001b[22m::Symbol\u001b[1m)\u001b[22m\u001b[22m at \u001b[1m./loading.jl:435\u001b[22m\u001b[22m",
      " [2] \u001b[1mrequire\u001b[22m\u001b[22m\u001b[1m(\u001b[22m\u001b[22m::Symbol\u001b[1m)\u001b[22m\u001b[22m at \u001b[1m./loading.jl:405\u001b[22m\u001b[22m"
     ]
    }
   ],
   "source": [
    "using JuMP  \n",
    "using MathOptInterface # Replaces MathProgBase\n",
    "# shortcuts\n",
    "const MOI = MathOptInterface\n",
    "const MOIU = MathOptInterface.Utilities\n",
    "\n",
    "using GLPK # Loading the GLPK module for using its solver"
   ]
  },
  {
   "cell_type": "markdown",
   "metadata": {},
   "source": [
    "## MOI and JuMP"
   ]
  },
  {
   "cell_type": "code",
   "execution_count": 64,
   "metadata": {},
   "outputs": [],
   "source": [
    "model = Model()\n",
    "@variable(model, x[1:2])\n",
    "@constraint(model, linear1, 2*x[1] +   x[2] <= 1)  # save reference linear1 for this constraint\n",
    "@constraint(model, 2*x[1] + 2*x[2] <= 1) \n",
    "@constraint(model, x[1]^2 + x[2]^2 <= 1)  \n",
    "@constraint(model, [1;x] in SecondOrderCone())  # ||x|| <= 1\n",
    "@objective(model, Max, x[1] + x[2]) "
   ]
  },
  {
   "cell_type": "markdown",
   "metadata": {},
   "source": [
    "Behind every JuMP model there is a MOI model (used to be a MPB model)"
   ]
  },
  {
   "cell_type": "code",
   "execution_count": 6,
   "metadata": {},
   "outputs": [
    {
     "data": {
      "text/plain": [
       "MathOptInterface.Bridges.LazyBridgeOptimizer{MathOptInterface.Utilities.CachingOptimizer{MathOptInterface.AbstractOptimizer,MathOptInterface.Utilities.UniversalFallback{JuMP.JuMPMOIModel{Float64}}},MathOptInterface.Bridges.AllBridgedConstraints{Float64}}"
      ]
     },
     "execution_count": 6,
     "metadata": {},
     "output_type": "execute_result"
    }
   ],
   "source": [
    "typeof(model.moibackend)"
   ]
  },
  {
   "cell_type": "markdown",
   "metadata": {},
   "source": [
    "### Recovering variables:"
   ]
  },
  {
   "cell_type": "code",
   "execution_count": 33,
   "metadata": {},
   "outputs": [
    {
     "data": {
      "text/plain": [
       "2-element Array{MathOptInterface.VariableIndex,1}:\n",
       " MathOptInterface.VariableIndex(1)\n",
       " MathOptInterface.VariableIndex(2)"
      ]
     },
     "execution_count": 33,
     "metadata": {},
     "output_type": "execute_result"
    }
   ],
   "source": [
    "xx = MOI.get(model.moibackend,MOI.ListOfVariableIndices()) "
   ]
  },
  {
   "cell_type": "code",
   "execution_count": 39,
   "metadata": {},
   "outputs": [
    {
     "data": {
      "text/plain": [
       "true"
      ]
     },
     "execution_count": 39,
     "metadata": {},
     "output_type": "execute_result"
    }
   ],
   "source": [
    "x[1].index == xx[1]"
   ]
  },
  {
   "cell_type": "code",
   "execution_count": 42,
   "metadata": {},
   "outputs": [
    {
     "data": {
      "text/plain": [
       "true"
      ]
     },
     "execution_count": 42,
     "metadata": {},
     "output_type": "execute_result"
    }
   ],
   "source": [
    "x[1].m == model"
   ]
  },
  {
   "cell_type": "code",
   "execution_count": 84,
   "metadata": {},
   "outputs": [
    {
     "data": {
      "text/plain": [
       "JuMP.VariableRef"
      ]
     },
     "execution_count": 84,
     "metadata": {},
     "output_type": "execute_result"
    }
   ],
   "source": [
    "typeof(x[1])"
   ]
  },
  {
   "cell_type": "markdown",
   "metadata": {},
   "source": [
    "JuMP variable : MOI variable + owning model\n",
    "```julia\n",
    "struct VariableRef \n",
    "    m::Model\n",
    "    index::MOI.VariableIndex\n",
    "end\n",
    "```\n",
    "\n",
    "MOI variable : Type-safe unique and not necessarily consecutive index\n",
    "```julia\n",
    "struct VariableIndex\n",
    "    value::Int64\n",
    "end\n",
    "```"
   ]
  },
  {
   "cell_type": "markdown",
   "metadata": {},
   "source": [
    "### Recovering constraints:"
   ]
  },
  {
   "cell_type": "code",
   "execution_count": 45,
   "metadata": {},
   "outputs": [
    {
     "data": {
      "text/plain": [
       "3-element Array{Tuple{DataType,DataType},1}:\n",
       " (MathOptInterface.ScalarAffineFunction{Float64}, MathOptInterface.LessThan{Float64})   \n",
       " (MathOptInterface.ScalarQuadraticFunction{Float64}, MathOptInterface.LessThan{Float64})\n",
       " (MathOptInterface.VectorAffineFunction{Float64}, MathOptInterface.SecondOrderCone)     "
      ]
     },
     "execution_count": 45,
     "metadata": {},
     "output_type": "execute_result"
    }
   ],
   "source": [
    "L,Q,C = MOI.get(model.moibackend,MOI.ListOfConstraints())"
   ]
  },
  {
   "cell_type": "markdown",
   "metadata": {},
   "source": [
    "MOI constraints are of the form \n",
    "$$\n",
    "f(x) \\in S\n",
    "$$\n",
    "were\n",
    "* $f$ is an ``MOI.AbstractFunction`` (e.g. ``MOI.ScalarAffineFunction`` = $a^T x +b$ for some $a,b$) and\n",
    "* $S$ is an ``MOI.AbstractSet`` (e.g. ``MOI.LessThan`` = $\\{y\\,:\\, y\\leq u\\}$ for some $u$)"
   ]
  },
  {
   "cell_type": "markdown",
   "metadata": {},
   "source": [
    "#### Linear inequalities (``MOI.ScalarAffineFunction``-in-``MOI.LessThan``):"
   ]
  },
  {
   "cell_type": "code",
   "execution_count": 53,
   "metadata": {},
   "outputs": [
    {
     "data": {
      "text/plain": [
       "2-element Array{MathOptInterface.ConstraintIndex{MathOptInterface.ScalarAffineFunction{Float64},MathOptInterface.LessThan{Float64}},1}:\n",
       " MathOptInterface.ConstraintIndex{MathOptInterface.ScalarAffineFunction{Float64},MathOptInterface.LessThan{Float64}}(1)\n",
       " MathOptInterface.ConstraintIndex{MathOptInterface.ScalarAffineFunction{Float64},MathOptInterface.LessThan{Float64}}(2)"
      ]
     },
     "execution_count": 53,
     "metadata": {},
     "output_type": "execute_result"
    }
   ],
   "source": [
    "linear = MOI.get(model.moibackend,MOI.ListOfConstraintIndices{MOI.ScalarAffineFunction{Float64}, MOI.LessThan{Float64}}())  #MOI.get(model.moibackend,MOI.ListOfConstraintIndices{L...}())"
   ]
  },
  {
   "cell_type": "code",
   "execution_count": 67,
   "metadata": {},
   "outputs": [
    {
     "data": {
      "text/plain": [
       "true"
      ]
     },
     "execution_count": 67,
     "metadata": {},
     "output_type": "execute_result"
    }
   ],
   "source": [
    "linear1.index == linear[1]"
   ]
  },
  {
   "cell_type": "code",
   "execution_count": 68,
   "metadata": {},
   "outputs": [
    {
     "data": {
      "text/plain": [
       "2-element Array{Symbol,1}:\n",
       " :m    \n",
       " :index"
      ]
     },
     "execution_count": 68,
     "metadata": {},
     "output_type": "execute_result"
    }
   ],
   "source": [
    "fieldnames(linear1)"
   ]
  },
  {
   "cell_type": "code",
   "execution_count": 69,
   "metadata": {},
   "outputs": [
    {
     "data": {
      "text/plain": [
       "true"
      ]
     },
     "execution_count": 69,
     "metadata": {},
     "output_type": "execute_result"
    }
   ],
   "source": [
    "linear1.m == model"
   ]
  },
  {
   "cell_type": "code",
   "execution_count": 85,
   "metadata": {},
   "outputs": [
    {
     "data": {
      "text/plain": [
       "JuMP.ConstraintRef{JuMP.Model,MathOptInterface.ConstraintIndex{MathOptInterface.ScalarAffineFunction{Float64},MathOptInterface.LessThan{Float64}}}"
      ]
     },
     "execution_count": 85,
     "metadata": {},
     "output_type": "execute_result"
    }
   ],
   "source": [
    "typeof(linear1)"
   ]
  },
  {
   "cell_type": "markdown",
   "metadata": {},
   "source": [
    "JuMP constraint : MOI constraint + owning model\n",
    "```julia\n",
    "struct ConstraintRef{C}\n",
    "    m::Model\n",
    "    index::C             # C = ConstraintIndex{F,S} for some F,S\n",
    "end\n",
    "```\n",
    "\n",
    "MOI constraint : Type-safe wrapper of index to constraint of class F-in-S. Index not necessarily consecutive and unique within constraint class\n",
    "```julia\n",
    "struct ConstraintIndex{F,S}\n",
    "    value::Int64\n",
    "end\n",
    "```"
   ]
  },
  {
   "cell_type": "markdown",
   "metadata": {},
   "source": [
    "Linear inequalities 1 : \n",
    "* ``2*x[1] + x[2] <= 1``, or\n",
    "* $a^T x + b \\in \\{y:y\\leq u\\}$ for $a=(2,1)^T$, $b=0$ and $u=0$ "
   ]
  },
  {
   "cell_type": "markdown",
   "metadata": {},
   "source": [
    "$a=(2,1)^T$:"
   ]
  },
  {
   "cell_type": "code",
   "execution_count": 56,
   "metadata": {},
   "outputs": [
    {
     "data": {
      "text/plain": [
       "2-element Array{MathOptInterface.ScalarAffineTerm{Float64},1}:\n",
       " MathOptInterface.ScalarAffineTerm{Float64}(2.0, MathOptInterface.VariableIndex(1))\n",
       " MathOptInterface.ScalarAffineTerm{Float64}(1.0, MathOptInterface.VariableIndex(2))"
      ]
     },
     "execution_count": 56,
     "metadata": {},
     "output_type": "execute_result"
    }
   ],
   "source": [
    "MOI.get(model.moibackend,MOI.ConstraintFunction(),linear[1]).terms"
   ]
  },
  {
   "cell_type": "markdown",
   "metadata": {},
   "source": [
    "$b=0$:"
   ]
  },
  {
   "cell_type": "code",
   "execution_count": 58,
   "metadata": {},
   "outputs": [
    {
     "data": {
      "text/plain": [
       "0.0"
      ]
     },
     "execution_count": 58,
     "metadata": {},
     "output_type": "execute_result"
    }
   ],
   "source": [
    "MOI.get(model.moibackend,MOI.ConstraintFunction(),linear[1]).constant"
   ]
  },
  {
   "cell_type": "markdown",
   "metadata": {},
   "source": [
    "$u=0$:"
   ]
  },
  {
   "cell_type": "code",
   "execution_count": 60,
   "metadata": {},
   "outputs": [
    {
     "data": {
      "text/plain": [
       "1.0"
      ]
     },
     "execution_count": 60,
     "metadata": {},
     "output_type": "execute_result"
    }
   ],
   "source": [
    "MOI.get(model.moibackend,MOI.ConstraintSet(),linear[1]).upper"
   ]
  },
  {
   "cell_type": "markdown",
   "metadata": {},
   "source": [
    "Similar for othet constrsints:"
   ]
  },
  {
   "cell_type": "code",
   "execution_count": 49,
   "metadata": {},
   "outputs": [
    {
     "data": {
      "text/plain": [
       "1-element Array{MathOptInterface.ConstraintIndex{MathOptInterface.ScalarQuadraticFunction{Float64},MathOptInterface.LessThan{Float64}},1}:\n",
       " MathOptInterface.ConstraintIndex{MathOptInterface.ScalarQuadraticFunction{Float64},MathOptInterface.LessThan{Float64}}(3)"
      ]
     },
     "execution_count": 49,
     "metadata": {},
     "output_type": "execute_result"
    }
   ],
   "source": [
    "MOI.get(model.moibackend,MOI.ListOfConstraintIndices{MOI.ScalarQuadraticFunction{Float64}, MOI.LessThan{Float64}}())  #MOI.get(model.moibackend,MOI.ListOfConstraintIndices{Q...}())"
   ]
  },
  {
   "cell_type": "code",
   "execution_count": 51,
   "metadata": {},
   "outputs": [
    {
     "data": {
      "text/plain": [
       "1-element Array{MathOptInterface.ConstraintIndex{MathOptInterface.VectorAffineFunction{Float64},MathOptInterface.SecondOrderCone},1}:\n",
       " MathOptInterface.ConstraintIndex{MathOptInterface.VectorAffineFunction{Float64},MathOptInterface.SecondOrderCone}(4)"
      ]
     },
     "execution_count": 51,
     "metadata": {},
     "output_type": "execute_result"
    }
   ],
   "source": [
    "MOI.get(model.moibackend,MOI.ListOfConstraintIndices{MOI.VectorAffineFunction{Float64}, MOI.SecondOrderCone}())  #MOI.get(model.moibackend,MOI.ListOfConstraintIndices{C...}())"
   ]
  },
  {
   "cell_type": "markdown",
   "metadata": {},
   "source": [
    "## MOI Constraints"
   ]
  },
  {
   "cell_type": "markdown",
   "metadata": {},
   "source": [
    "| Mathematical Constraint       | MOI Function                 | MOI Set        |\n",
    "|-------------------------------|------------------------------|----------------|\n",
    "| $a^Tx = b$                  | `ScalarAffineFunction`       | `EqualTo`      |\n",
    "| $l \\le a^Tx \\le u$          | `ScalarAffineFunction`       | `Interval`     |\n",
    "| $x_i \\le u$                 | `SingleVariable`             | `LessThan`     |\n",
    "| $Ax + b \\in \\mathbb{R}_+^n$ | `VectorAffineFunction`       | `Nonnegatives` |\n",
    "| $\\lVert Ax + b\\rVert_2 \\le c^Tx + d$                        | `VectorAffineFunction`       | `SecondOrderCone` |\n",
    "| $y \\exp (x/y) \\le z, y > 0$  | `VectorOfVariables`       | `ExponentialCone`                  |\n",
    "| $x \\in \\mathbb{R}^{d\\left(d+1\\right)/2}$,◹$(x)\\in PSD \\subseteq \\mathbb{R}^{d\\times d}$                                       | `VectorOfVariables`          | `PositiveSemidefiniteConeTriangle` |"
   ]
  },
  {
   "cell_type": "markdown",
   "metadata": {
    "collapsed": true
   },
   "source": [
    "## Bridges"
   ]
  },
  {
   "cell_type": "markdown",
   "metadata": {},
   "source": [
    "Missing bridges https://github.com/JuliaOpt/MathOptInterface.jl/issues/423\n",
    "\n",
    "unsupported constraints https://github.com/JuliaOpt/JuMP.jl/pull/1386"
   ]
  },
  {
   "cell_type": "code",
   "execution_count": null,
   "metadata": {
    "collapsed": true
   },
   "outputs": [],
   "source": []
  }
 ],
 "metadata": {
  "kernelspec": {
   "display_name": "Julia 0.6.2",
   "language": "julia",
   "name": "julia-0.6"
  },
  "language_info": {
   "file_extension": ".jl",
   "mimetype": "application/julia",
   "name": "julia",
   "version": "0.6.2"
  }
 },
 "nbformat": 4,
 "nbformat_minor": 2
}

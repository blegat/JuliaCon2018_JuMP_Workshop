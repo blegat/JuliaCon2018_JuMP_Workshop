{
 "cells": [
  {
   "cell_type": "markdown",
   "metadata": {},
   "source": [
    "# The JuMP ecosystem for mathematical optimization: Topics\n",
    "\n",
    "This notebook is part of a workshop at [JuliaCon 2018](http://juliacon.org/2018/) and is based on materials and notebooks from various sources including the [JuliaOpt notebooks](https://github.com/JuliaOpt/juliaopt-notebooks), the [2018 ISCO Spring School](https://github.com/joehuchette/ISCO-spring-school) and the [second annual JuMP-dev workshop](http://www.juliaopt.org/meetings/bordeaux2018/).\n",
    "\n",
    "## Disclaimer\n",
    "This notebook is only working under the versions:\n",
    "\n",
    "- JuMP 0.19 (unreleased, but currently in master)\n",
    "\n",
    "- MathOptInterface 0.4.1\n",
    "\n",
    "- GLPK 0.6.0"
   ]
  },
  {
   "cell_type": "code",
   "execution_count": 2,
   "metadata": {
    "collapsed": true
   },
   "outputs": [],
   "source": [
    "using JuMP  \n",
    "using MathOptInterface # Replaces MathProgBase\n",
    "# shortcuts\n",
    "const MOI = MathOptInterface\n",
    "const MOIU = MathOptInterface.Utilities\n",
    "\n",
    "using GLPK # Loading the GLPK module for using its solver"
   ]
  },
  {
   "cell_type": "markdown",
   "metadata": {},
   "source": [
    "## Duality"
   ]
  },
  {
   "cell_type": "markdown",
   "metadata": {},
   "source": [
    "I can get duals from constraint references."
   ]
  },
  {
   "cell_type": "code",
   "execution_count": 3,
   "metadata": {},
   "outputs": [
    {
     "name": "stdout",
     "output_type": "stream",
     "text": [
      "JuMP.hasresultvalues(model) = true\n",
      "JuMP.terminationstatus(model) == MOI.Success = true\n",
      "JuMP.primalstatus(model) == MOI.FeasiblePoint = true\n",
      "JuMP.dualstatus(model) == MOI.FeasiblePoint = true\n"
     ]
    },
    {
     "data": {
      "text/plain": [
       "-2.0"
      ]
     },
     "execution_count": 3,
     "metadata": {},
     "output_type": "execute_result"
    },
    {
     "name": "stdout",
     "output_type": "stream",
     "text": [
      "JuMP.resultdual(inequality) = -2.0\n"
     ]
    }
   ],
   "source": [
    "model = Model(optimizer = GLPK.GLPKOptimizerLP())\n",
    "@variable(model, x >= 0)\n",
    "@variable(model, y >= 0)\n",
    "@constraint(model,inequality, x + y <= 1)         \n",
    "@objective(model, Max, x + 2y)\n",
    "JuMP.optimize(model)\n",
    "@show JuMP.hasresultvalues(model)\n",
    "@show JuMP.terminationstatus(model) == MOI.Success\n",
    "@show JuMP.primalstatus(model) == MOI.FeasiblePoint\n",
    "@show JuMP.dualstatus(model) == MOI.FeasiblePoint\n",
    "@show JuMP.resultdual(inequality)"
   ]
  },
  {
   "cell_type": "markdown",
   "metadata": {},
   "source": [
    "I can also get \"duals\" for variable bounds."
   ]
  },
  {
   "cell_type": "code",
   "execution_count": 4,
   "metadata": {},
   "outputs": [
    {
     "data": {
      "text/plain": [
       "0.0"
      ]
     },
     "execution_count": 4,
     "metadata": {},
     "output_type": "execute_result"
    },
    {
     "name": "stdout",
     "output_type": "stream",
     "text": [
      "JuMP.resultdual(JuMP.LowerBoundRef(x)) = 1.0\n",
      "JuMP.resultdual(JuMP.LowerBoundRef(y)) = 0.0\n"
     ]
    }
   ],
   "source": [
    "@show JuMP.resultdual(JuMP.LowerBoundRef(x))\n",
    "@show JuMP.resultdual(JuMP.LowerBoundRef(y))"
   ]
  },
  {
   "cell_type": "markdown",
   "metadata": {},
   "source": [
    "For sign conventions and precise definition of \"dual\" problem see [Duality](http://www.juliaopt.org/MathOptInterface.jl/stable/apimanual.html#Duals-1) in [MOI Manual](http://www.juliaopt.org/MathOptInterface.jl/stable)"
   ]
  },
  {
   "cell_type": "code",
   "execution_count": null,
   "metadata": {
    "collapsed": true
   },
   "outputs": [],
   "source": []
  }
 ],
 "metadata": {
  "kernelspec": {
   "display_name": "Julia 0.6.2",
   "language": "julia",
   "name": "julia-0.6"
  },
  "language_info": {
   "file_extension": ".jl",
   "mimetype": "application/julia",
   "name": "julia",
   "version": "0.6.2"
  }
 },
 "nbformat": 4,
 "nbformat_minor": 2
}

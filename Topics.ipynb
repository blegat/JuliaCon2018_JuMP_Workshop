{
 "cells": [
  {
   "cell_type": "markdown",
   "metadata": {},
   "source": [
    "# The JuMP ecosystem for mathematical optimization: Topics\n",
    "\n",
    "This notebook is part of a workshop at [JuliaCon 2018](http://juliacon.org/2018/) and is based on materials and notebooks from various sources including the [JuliaOpt notebooks](https://github.com/JuliaOpt/juliaopt-notebooks), the [2018 ISCO Spring School](https://github.com/joehuchette/ISCO-spring-school) and the [second annual JuMP-dev workshop](http://www.juliaopt.org/meetings/bordeaux2018/).\n",
    "\n",
    "## Disclaimer\n",
    "This notebook is only working under the versions:\n",
    "\n",
    "- JuMP 0.19 (unreleased, but currently in master)\n",
    "\n",
    "- MathOptInterface 0.4.1\n",
    "\n",
    "- GLPK 0.6.0"
   ]
  },
  {
   "cell_type": "code",
   "execution_count": 2,
   "metadata": {
    "collapsed": true
   },
   "outputs": [],
   "source": [
    "using JuMP  \n",
    "using MathOptInterface # Replaces MathProgBase\n",
    "# shortcuts\n",
    "const MOI = MathOptInterface\n",
    "const MOIU = MathOptInterface.Utilities\n",
    "\n",
    "using GLPK # Loading the GLPK module for using its solver"
   ]
  },
  {
   "cell_type": "markdown",
   "metadata": {},
   "source": [
    "## Duality"
   ]
  },
  {
   "cell_type": "markdown",
   "metadata": {},
   "source": [
    "I can get duals from constraint references."
   ]
  },
  {
   "cell_type": "code",
   "execution_count": 3,
   "metadata": {},
   "outputs": [
    {
     "name": "stdout",
     "output_type": "stream",
     "text": [
      "JuMP.hasresultvalues(model) = true\n",
      "JuMP.terminationstatus(model) == MOI.Success = true\n",
      "JuMP.primalstatus(model) == MOI.FeasiblePoint = true\n",
      "JuMP.dualstatus(model) == MOI.FeasiblePoint = true\n"
     ]
    },
    {
     "data": {
      "text/plain": [
       "-2.0"
      ]
     },
     "execution_count": 3,
     "metadata": {},
     "output_type": "execute_result"
    },
    {
     "name": "stdout",
     "output_type": "stream",
     "text": [
      "JuMP.resultdual(inequality) = -2.0\n"
     ]
    }
   ],
   "source": [
    "model = Model(optimizer = GLPK.GLPKOptimizerLP())\n",
    "@variable(model, x >= 0)\n",
    "@variable(model, y >= 0)\n",
    "@constraint(model,inequality, x + y <= 1)         \n",
    "@objective(model, Max, x + 2y)\n",
    "JuMP.optimize(model)\n",
    "@show JuMP.hasresultvalues(model)\n",
    "@show JuMP.terminationstatus(model) == MOI.Success\n",
    "@show JuMP.primalstatus(model) == MOI.FeasiblePoint\n",
    "@show JuMP.dualstatus(model) == MOI.FeasiblePoint\n",
    "@show JuMP.resultdual(inequality)"
   ]
  },
  {
   "cell_type": "markdown",
   "metadata": {},
   "source": [
    "I can also get \"duals\" for variable bounds."
   ]
  },
  {
   "cell_type": "code",
   "execution_count": 4,
   "metadata": {},
   "outputs": [
    {
     "data": {
      "text/plain": [
       "0.0"
      ]
     },
     "execution_count": 4,
     "metadata": {},
     "output_type": "execute_result"
    },
    {
     "name": "stdout",
     "output_type": "stream",
     "text": [
      "JuMP.resultdual(JuMP.LowerBoundRef(x)) = 1.0\n",
      "JuMP.resultdual(JuMP.LowerBoundRef(y)) = 0.0\n"
     ]
    }
   ],
   "source": [
    "@show JuMP.resultdual(JuMP.LowerBoundRef(x))\n",
    "@show JuMP.resultdual(JuMP.LowerBoundRef(y))"
   ]
  },
  {
   "cell_type": "markdown",
   "metadata": {},
   "source": [
    "For sign conventions and precise definition of \"dual\" problem see [Duality](http://www.juliaopt.org/MathOptInterface.jl/stable/apimanual.html#Duals-1) in [MOI Manual](http://www.juliaopt.org/MathOptInterface.jl/stable)"
   ]
  },
  {
   "cell_type": "markdown",
   "metadata": {
    "collapsed": true
   },
   "source": [
    "## JuMP Containers"
   ]
  },
  {
   "cell_type": "code",
   "execution_count": 1,
   "metadata": {
    "collapsed": true
   },
   "outputs": [],
   "source": [
    "using JuMP, GLPK, Compat"
   ]
  },
  {
   "cell_type": "code",
   "execution_count": 69,
   "metadata": {},
   "outputs": [
    {
     "data": {
      "text/plain": [
       "Dict{Any,JuMP.VariableRef} with 3 entries:\n",
       "  3 => h[3]\n",
       "  5 => h[5]\n",
       "  1 => h[1]"
      ]
     },
     "execution_count": 69,
     "metadata": {},
     "output_type": "execute_result"
    }
   ],
   "source": [
    "m = Model(optimizer = GLPK.GLPKOptimizerLP())\n",
    "@variable(m, x[i=1:5, j=1:5])                        # Array\n",
    "set_1 = Base.OneTo(5)\n",
    "@variable(m, y[i=set_1, j=1:5])                      # Array\n",
    "set_2 = 1:5\n",
    "@variable(m, z1[i=1:5, j=set_2])                     # JuMPArray\n",
    "@variable(m, z2[i=1:5, j=set_2], container = Array)\n",
    "a = 1\n",
    "@variable(m, zz1[i=1:5, j=a:5])                      # JuMPArray\n",
    "@variable(m, zz2[i=1:5, j=a:5], container = Array)   # JuMPArray\n",
    "set_3 = [:a, :b, :c]\n",
    "@variable(m, w[i=set_2, j=set_3])                    # JuMPArray\n",
    "@variable(m, t[i=set_2, j=1:i])                      # Dict\n",
    "@variable(m, h[i = 1:5; j=isodd(i)])                 # Dict"
   ]
  },
  {
   "cell_type": "code",
   "execution_count": 68,
   "metadata": {},
   "outputs": [
    {
     "data": {
      "text/plain": [
       "Array{JuMP.VariableRef,2}"
      ]
     },
     "execution_count": 68,
     "metadata": {},
     "output_type": "execute_result"
    }
   ],
   "source": [
    "typeof(zz2)"
   ]
  },
  {
   "cell_type": "markdown",
   "metadata": {},
   "source": [
    "### `x[i=1:5, j=1:5]`"
   ]
  },
  {
   "cell_type": "code",
   "execution_count": 76,
   "metadata": {},
   "outputs": [
    {
     "data": {
      "text/plain": [
       ":((Main.Array){JuMP.VariableRef}(Main.undef, ((Main.length)(1:5), (Main.length)(1:5))...))"
      ]
     },
     "execution_count": 76,
     "metadata": {},
     "output_type": "execute_result"
    }
   ],
   "source": [
    "#@macroexpand @variable(m, x[i=1:5, j=1:5])  # Array\n",
    "refcall, idxvars, idxsets, condition = JuMP.buildrefsets(:(x[i=1:5, j=1:5]))\n",
    "containercode, autoduplicatecheck = JuMP.generatecontainer(VariableRef, idxvars, idxsets, :Auto)\n",
    "macro tempmacro()\n",
    "    containercode\n",
    "end\n",
    "@macroexpand @tempmacro "
   ]
  },
  {
   "cell_type": "markdown",
   "metadata": {},
   "source": [
    "### `y[i=set_1, j=1:5], set_1 = Base.OneTo(5)`"
   ]
  },
  {
   "cell_type": "code",
   "execution_count": 77,
   "metadata": {},
   "outputs": [
    {
     "data": {
      "text/plain": [
       ":(if $(Expr(:&&, :(set_1 isa Main.Base.OneTo))) # /Users/jvielma/.julia/v0.6/JuMP/src/containers.jl, line 110:\n",
       "        (Main.Array){JuMP.VariableRef}(Main.undef, ((Main.length)(set_1), (Main.length)(1:5))...)\n",
       "    else  # /Users/jvielma/.julia/v0.6/JuMP/src/containers.jl, line 110:\n",
       "        Main.JuMP.JuMPArray((Main.Array){JuMP.VariableRef}(Main.undef, ((Main.length)(set_1), (Main.length)(1:5))...), set_1, 1:5)\n",
       "    end)"
      ]
     },
     "execution_count": 77,
     "metadata": {},
     "output_type": "execute_result"
    }
   ],
   "source": [
    "#@macroexpand @variable(m, y[i=set_1, j=1:5]) # Array\n",
    "refcall, idxvars, idxsets, condition = JuMP.buildrefsets(:(y[i=set_1, j=1:5]))\n",
    "containercode, autoduplicatecheck = JuMP.generatecontainer(VariableRef, idxvars, idxsets, :Auto)\n",
    "macro tempmacro()\n",
    "    containercode\n",
    "end\n",
    "@macroexpand @tempmacro "
   ]
  },
  {
   "cell_type": "markdown",
   "metadata": {},
   "source": [
    "### `z[i=1:5, j=set_2], set_2 = 1:5`"
   ]
  },
  {
   "cell_type": "code",
   "execution_count": 70,
   "metadata": {},
   "outputs": [
    {
     "data": {
      "text/plain": [
       ":(if $(Expr(:&&, :(set_2 isa Main.Base.OneTo))) # /Users/jvielma/.julia/v0.6/JuMP/src/containers.jl, line 110:\n",
       "        (Main.Array){JuMP.VariableRef}(Main.undef, ((Main.length)(1:5), (Main.length)(set_2))...)\n",
       "    else  # /Users/jvielma/.julia/v0.6/JuMP/src/containers.jl, line 110:\n",
       "        Main.JuMP.JuMPArray((Main.Array){JuMP.VariableRef}(Main.undef, ((Main.length)(1:5), (Main.length)(set_2))...), 1:5, set_2)\n",
       "    end)"
      ]
     },
     "execution_count": 70,
     "metadata": {},
     "output_type": "execute_result"
    }
   ],
   "source": [
    "#@macroexpand @variable(m, z1[i=1:5, j=set_2])  # JuMPArray\n",
    "refcall, idxvars, idxsets, condition = JuMP.buildrefsets(:(z[i=1:5, j=set_2]))\n",
    "containercode, autoduplicatecheck = JuMP.generatecontainer(VariableRef, idxvars, idxsets, :Auto)\n",
    "macro tempmacro()\n",
    "    containercode\n",
    "end\n",
    "@macroexpand @tempmacro "
   ]
  },
  {
   "cell_type": "code",
   "execution_count": 71,
   "metadata": {},
   "outputs": [
    {
     "data": {
      "text/plain": [
       "quote \n",
       "    $(Expr(:&&, :(Main.JuMP.validarrayindexset(set_2)))) || (Main.error)(\"Index set for array is not one-based interval.\")\n",
       "    (Main.Array){JuMP.VariableRef}(Main.undef, ((Main.length)(1:5), (Main.length)(set_2))...)\n",
       "end"
      ]
     },
     "execution_count": 71,
     "metadata": {},
     "output_type": "execute_result"
    }
   ],
   "source": [
    "#@macroexpand @variable(m, z2[i=1:5, j=set_2], container = Array) # Array  \n",
    "refcall, idxvars, idxsets, condition = JuMP.buildrefsets(:(z[i=1:5, j=set_2]))\n",
    "containercode, autoduplicatecheck = JuMP.generatecontainer(VariableRef, idxvars, idxsets, :Array)\n",
    "macro tempmacro()\n",
    "    containercode\n",
    "end\n",
    "@macroexpand @tempmacro "
   ]
  },
  {
   "cell_type": "code",
   "execution_count": 72,
   "metadata": {},
   "outputs": [
    {
     "data": {
      "text/plain": [
       "CodeInfo(:(begin \n",
       "        return ((Core.getfield)(r, :start)::Int64 === 1)::Bool\n",
       "    end))=>Bool"
      ]
     },
     "execution_count": 72,
     "metadata": {},
     "output_type": "execute_result"
    }
   ],
   "source": [
    "@code_typed JuMP.validarrayindexset(set_2)"
   ]
  },
  {
   "cell_type": "code",
   "execution_count": 81,
   "metadata": {},
   "outputs": [
    {
     "data": {
      "text/html": [
       "3 methods for generic function <b>validarrayindexset</b>:<ul><li> validarrayindexset(::<b>Base.OneTo</b>) at <a href=\"https://github.com/JuliaOpt/JuMP.jl/tree/647f228554c2a34d82ac8b3ad4097bf43455bac4//src/containers.jl#L8\" target=\"_blank\">/Users/jvielma/.julia/v0.6/JuMP/src/containers.jl:8</a></li> <li> validarrayindexset(r::<b>UnitRange</b>) at <a href=\"https://github.com/JuliaOpt/JuMP.jl/tree/647f228554c2a34d82ac8b3ad4097bf43455bac4//src/containers.jl#L9\" target=\"_blank\">/Users/jvielma/.julia/v0.6/JuMP/src/containers.jl:9</a></li> <li> validarrayindexset(s) at <a href=\"https://github.com/JuliaOpt/JuMP.jl/tree/647f228554c2a34d82ac8b3ad4097bf43455bac4//src/containers.jl#L10\" target=\"_blank\">/Users/jvielma/.julia/v0.6/JuMP/src/containers.jl:10</a></li> </ul>"
      ],
      "text/plain": [
       "# 3 methods for generic function \"validarrayindexset\":\n",
       "validarrayindexset(::Base.OneTo) in JuMP at /Users/jvielma/.julia/v0.6/JuMP/src/containers.jl:8\n",
       "validarrayindexset(r::UnitRange) in JuMP at /Users/jvielma/.julia/v0.6/JuMP/src/containers.jl:9\n",
       "validarrayindexset(s) in JuMP at /Users/jvielma/.julia/v0.6/JuMP/src/containers.jl:10"
      ]
     },
     "execution_count": 81,
     "metadata": {},
     "output_type": "execute_result"
    }
   ],
   "source": [
    "methods(JuMP.validarrayindexset)"
   ]
  }
 ],
 "metadata": {
  "kernelspec": {
   "display_name": "Julia 0.6.2",
   "language": "julia",
   "name": "julia-0.6"
  },
  "language_info": {
   "file_extension": ".jl",
   "mimetype": "application/julia",
   "name": "julia",
   "version": "0.6.2"
  }
 },
 "nbformat": 4,
 "nbformat_minor": 2
}
